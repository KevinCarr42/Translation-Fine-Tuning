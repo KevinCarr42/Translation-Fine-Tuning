{
 "cells": [
  {
   "metadata": {
    "ExecuteTime": {
     "end_time": "2025-07-03T12:01:50.877641Z",
     "start_time": "2025-07-03T12:01:50.868403Z"
    }
   },
   "cell_type": "code",
   "source": [
    "import pandas as pd\n",
    "import json\n",
    "from alive_progress import alive_bar"
   ],
   "id": "607c5b7ee81dc914",
   "outputs": [],
   "execution_count": 14
  },
  {
   "metadata": {
    "ExecuteTime": {
     "end_time": "2025-07-03T11:53:26.203898Z",
     "start_time": "2025-07-03T11:53:25.499434Z"
    }
   },
   "cell_type": "code",
   "source": [
    "# best dataset (by inspection, they're all statistically similar)\n",
    "df = pd.read_pickle(\"../create_training_data/matched_data_wo_linebreaks.pickle\")"
   ],
   "id": "14bb8e3fb29a210",
   "outputs": [],
   "execution_count": 4
  },
  {
   "metadata": {
    "ExecuteTime": {
     "end_time": "2025-07-03T11:56:50.623105Z",
     "start_time": "2025-07-03T11:56:50.532254Z"
    }
   },
   "cell_type": "code",
   "source": "df[df[\"similarity\"] > 0.7].shape[0], df.shape[0]",
   "id": "2ef43a72345b756d",
   "outputs": [
    {
     "data": {
      "text/plain": [
       "(778021, 778951)"
      ]
     },
     "execution_count": 10,
     "metadata": {},
     "output_type": "execute_result"
    }
   ],
   "execution_count": 10
  },
  {
   "metadata": {
    "ExecuteTime": {
     "end_time": "2025-07-03T12:03:06.467429Z",
     "start_time": "2025-07-03T12:02:10.747059Z"
    }
   },
   "cell_type": "code",
   "source": [
    "min_similarity = 0.7\n",
    "df = df[df[\"similarity\"] > min_similarity]\n",
    "row_count = df.shape[0]\n",
    "filename = \"training_data.jsonl\"\n",
    "\n",
    "with open(filename, \"w\", encoding=\"utf-8\") as f:\n",
    "    with alive_bar(row_count, force_tty=True) as bar:\n",
    "        for _, row in df.iterrows():\n",
    "            bar()\n",
    "\n",
    "            f.write(json.dumps({\n",
    "                \"text\": f\"translate French to English: {row['fr']} <sep> {row['en']}\"\n",
    "            }, ensure_ascii=False) + \"\\n\")\n",
    "\n",
    "            f.write(json.dumps({\n",
    "                \"text\": f\"translate English to French: {row['en']} <sep> {row['fr']}\"\n",
    "            }, ensure_ascii=False) + \"\\n\")\n"
   ],
   "id": "d24e1fc4608ee8e7",
   "outputs": [
    {
     "name": "stdout",
     "output_type": "stream",
     "text": [
      "|████████████████████████████████████████| 778021/778021 [100%] in 55.7s (13979.\n"
     ]
    }
   ],
   "execution_count": 16
  },
  {
   "metadata": {
    "ExecuteTime": {
     "end_time": "2025-07-03T12:12:01.568952Z",
     "start_time": "2025-07-03T12:12:00.524740Z"
    }
   },
   "cell_type": "code",
   "source": [
    "import random\n",
    "\n",
    "with open(filename, encoding=\"utf-8\") as f:\n",
    "    sample = random.sample(list(f), k=3)\n",
    "\n",
    "for x in sample:\n",
    "    left, right = eval(x)['text'].split(\"<sep>\", 1)\n",
    "    lang, left = left.split(\": \", 1)\n",
    "    print(lang)\n",
    "    print(left.strip())\n",
    "    print(right.strip())\n",
    "    print()"
   ],
   "id": "67debf6a7cf65473",
   "outputs": [
    {
     "name": "stdout",
     "output_type": "stream",
     "text": [
      "translate English to French\n",
      "Environmental variables: None of the eight environmental variables considered (i.e., Aleutian Low pressure system, offshore productivity, inshore productivity, copepod abundance, sea surface temperature, Ekman Spring, Ekman Summer, and CPUE (biomass from DFO s StRS trap survey) were strongly correlated to BC Sablefish recruitment\n",
      "le système de basse pression des Aléoutiennes, la productivité hauturière, la productivité côtière, l abondance des copépodes, la température de la surface de la mer, le printemps d Ekman, l été d Ekman et la CPUE biomasse provenant du relevé aléatoire stratifié StRS au piège du MPO ) n est fortement corrélée au recrutement de la morue charbonnière de la C.-B\n",
      "\n",
      "translate English to French\n",
      "Technical training of vessel crew members and captains so that they have an appreciation of biological methods and rationale and are competent in sampling and tagging\n",
      "La formation technique des membres d équipage et des capitaines des navires pour leur donner une appréciation des méthodes et objectifs biologiques, et les rendre apte à effectuer l échantillonnage et l étiquetage\n",
      "\n",
      "translate French to English\n",
      "Accompagnant l augmentation de l abondance, la température au fond s est rapprochée des niveaux les plus élevés enregistrés ces dernières années, les facteurs de forçage environnemental (OMA) à grande échelle étant dans un état positif\n",
      "23 Accompanying the increase in abundance, bottom temperature has been approaching the highest levels recorded in recent years with large scale environmental forcing factors (AMO) being in a positive state\n",
      "\n"
     ]
    }
   ],
   "execution_count": 32
  },
  {
   "metadata": {
    "ExecuteTime": {
     "end_time": "2025-07-03T12:10:29.349628Z",
     "start_time": "2025-07-03T12:10:29.343685Z"
    }
   },
   "cell_type": "code",
   "source": [
    "x = '{\"text\": \"translate French to English: Des détails sur les méthodes de cette analyse se trouvent dans l opinion d experts pour la Région des Maritimes de 2006 (MPO 2006) <sep> Details on the methods for this analysis can be found in the Maritimes Region Science Expert Opinion 2006 (DFO 2006)\"}\\n'\n",
    "\n",
    "eval(x)['text']"
   ],
   "id": "43f563a242bcf705",
   "outputs": [
    {
     "data": {
      "text/plain": [
       "'translate French to English: Des détails sur les méthodes de cette analyse se trouvent dans l opinion d experts pour la Région des Maritimes de 2006 (MPO 2006) <sep> Details on the methods for this analysis can be found in the Maritimes Region Science Expert Opinion 2006 (DFO 2006)'"
      ]
     },
     "execution_count": 28,
     "metadata": {},
     "output_type": "execute_result"
    }
   ],
   "execution_count": 28
  },
  {
   "metadata": {
    "ExecuteTime": {
     "end_time": "2025-07-03T12:19:05.202503Z",
     "start_time": "2025-07-03T12:19:05.130123Z"
    }
   },
   "cell_type": "code",
   "source": "df[df.fr == \"Accompagnant l augmentation de l abondance, la température au fond s est rapprochée des niveaux les plus élevés enregistrés ces dernières années, les facteurs de forçage environnemental (OMA) à grande échelle étant dans un état positif\"]",
   "id": "15d8a3ffa454dea5",
   "outputs": [
    {
     "data": {
      "text/plain": [
       "          pub_number                                                 fr  \\\n",
       "240371  RES 2018/034  Accompagnant l augmentation de l abondance, la...   \n",
       "\n",
       "                                                       en  similarity  \n",
       "240371  23 Accompanying the increase in abundance, bot...       0.837  "
      ],
      "text/html": [
       "<div>\n",
       "<style scoped>\n",
       "    .dataframe tbody tr th:only-of-type {\n",
       "        vertical-align: middle;\n",
       "    }\n",
       "\n",
       "    .dataframe tbody tr th {\n",
       "        vertical-align: top;\n",
       "    }\n",
       "\n",
       "    .dataframe thead th {\n",
       "        text-align: right;\n",
       "    }\n",
       "</style>\n",
       "<table border=\"1\" class=\"dataframe\">\n",
       "  <thead>\n",
       "    <tr style=\"text-align: right;\">\n",
       "      <th></th>\n",
       "      <th>pub_number</th>\n",
       "      <th>fr</th>\n",
       "      <th>en</th>\n",
       "      <th>similarity</th>\n",
       "    </tr>\n",
       "  </thead>\n",
       "  <tbody>\n",
       "    <tr>\n",
       "      <th>240371</th>\n",
       "      <td>RES 2018/034</td>\n",
       "      <td>Accompagnant l augmentation de l abondance, la...</td>\n",
       "      <td>23 Accompanying the increase in abundance, bot...</td>\n",
       "      <td>0.837</td>\n",
       "    </tr>\n",
       "  </tbody>\n",
       "</table>\n",
       "</div>"
      ]
     },
     "execution_count": 33,
     "metadata": {},
     "output_type": "execute_result"
    }
   ],
   "execution_count": 33
  }
 ],
 "metadata": {
  "kernelspec": {
   "name": "python3",
   "language": "python",
   "display_name": "Python 3 (ipykernel)"
  }
 },
 "nbformat": 5,
 "nbformat_minor": 9
}
