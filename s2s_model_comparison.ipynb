{
 "cells": [
  {
   "cell_type": "code",
   "id": "initial_id",
   "metadata": {
    "collapsed": true,
    "ExecuteTime": {
     "end_time": "2025-08-07T17:03:38.842224Z",
     "start_time": "2025-08-07T17:03:38.405337Z"
    }
   },
   "source": [
    "import pandas as pd\n",
    "pd.set_option('display.float_format', '{:.2f}'.format)"
   ],
   "outputs": [],
   "execution_count": 1
  },
  {
   "metadata": {
    "ExecuteTime": {
     "end_time": "2025-08-07T17:03:39.018290Z",
     "start_time": "2025-08-07T17:03:38.844237Z"
    }
   },
   "cell_type": "code",
   "source": [
    "filepath = \"translation_comparison_20250807-0946.csv\"\n",
    "df = pd.read_csv(filepath)\n",
    "\n",
    "df.rename(columns={\"cosine_similarity_vs_target\": \"similarity_to_old_translation\"}, inplace=True)\n",
    "df['quality_vs_tb'] = df['cosine_similarity_vs_source'] - df['cosine_similarity_original_translation']"
   ],
   "id": "dc97f736fccb23f8",
   "outputs": [],
   "execution_count": 2
  },
  {
   "metadata": {
    "ExecuteTime": {
     "end_time": "2025-08-07T17:03:39.884251Z",
     "start_time": "2025-08-07T17:03:39.849851Z"
    }
   },
   "cell_type": "code",
   "source": [
    "def make_quantile(q):\n",
    "    return lambda x: x.quantile(q)\n",
    "\n",
    "percentiles = [0.01, 0.1, 0.5, 0.9, 0.99]\n",
    "agg_funcs = ['mean', 'min', 'max'] + [make_quantile(q) for q in percentiles]\n",
    "agg_names = ['mean', 'min', 'max'] + [f\"{int(q*100)}%\" for q in percentiles]\n",
    "\n",
    "print(\"\\nQuality of Translations Versus Translation Bureau\")\n",
    "display(df.groupby('translator_name')['quality_vs_tb'].agg(agg_funcs).reset_index().set_axis(\n",
    "    ['translator_name'] + agg_names, axis=1\n",
    ").T)\n",
    "\n",
    "print(\"\\nSimilarity to Translation Bureau Translation\")\n",
    "display(df.groupby('translator_name')['similarity_to_old_translation'].agg(agg_funcs).reset_index().set_axis(\n",
    "    ['translator_name'] + agg_names, axis=1\n",
    ").T)"
   ],
   "id": "4a56441e05863360",
   "outputs": [
    {
     "name": "stdout",
     "output_type": "stream",
     "text": [
      "\n",
      "Quality of Translations Versus Translation Bureau\n"
     ]
    },
    {
     "data": {
      "text/plain": [
       "                           0            1                     2        3\n",
       "translator_name  m2m100_418m  mbart50_mmt  nllb_3b_researchonly  opus_mt\n",
       "mean                    0.03         0.03                  0.03     0.03\n",
       "min                    -0.74        -0.23                 -0.85    -0.16\n",
       "max                     0.40         0.41                  0.41     0.41\n",
       "1%                     -0.08        -0.05                 -0.08    -0.05\n",
       "10%                    -0.02        -0.01                 -0.01    -0.01\n",
       "50%                     0.02         0.02                  0.02     0.02\n",
       "90%                     0.09         0.08                  0.08     0.08\n",
       "99%                     0.17         0.17                  0.17     0.16"
      ],
      "text/html": [
       "<div>\n",
       "<style scoped>\n",
       "    .dataframe tbody tr th:only-of-type {\n",
       "        vertical-align: middle;\n",
       "    }\n",
       "\n",
       "    .dataframe tbody tr th {\n",
       "        vertical-align: top;\n",
       "    }\n",
       "\n",
       "    .dataframe thead th {\n",
       "        text-align: right;\n",
       "    }\n",
       "</style>\n",
       "<table border=\"1\" class=\"dataframe\">\n",
       "  <thead>\n",
       "    <tr style=\"text-align: right;\">\n",
       "      <th></th>\n",
       "      <th>0</th>\n",
       "      <th>1</th>\n",
       "      <th>2</th>\n",
       "      <th>3</th>\n",
       "    </tr>\n",
       "  </thead>\n",
       "  <tbody>\n",
       "    <tr>\n",
       "      <th>translator_name</th>\n",
       "      <td>m2m100_418m</td>\n",
       "      <td>mbart50_mmt</td>\n",
       "      <td>nllb_3b_researchonly</td>\n",
       "      <td>opus_mt</td>\n",
       "    </tr>\n",
       "    <tr>\n",
       "      <th>mean</th>\n",
       "      <td>0.03</td>\n",
       "      <td>0.03</td>\n",
       "      <td>0.03</td>\n",
       "      <td>0.03</td>\n",
       "    </tr>\n",
       "    <tr>\n",
       "      <th>min</th>\n",
       "      <td>-0.74</td>\n",
       "      <td>-0.23</td>\n",
       "      <td>-0.85</td>\n",
       "      <td>-0.16</td>\n",
       "    </tr>\n",
       "    <tr>\n",
       "      <th>max</th>\n",
       "      <td>0.40</td>\n",
       "      <td>0.41</td>\n",
       "      <td>0.41</td>\n",
       "      <td>0.41</td>\n",
       "    </tr>\n",
       "    <tr>\n",
       "      <th>1%</th>\n",
       "      <td>-0.08</td>\n",
       "      <td>-0.05</td>\n",
       "      <td>-0.08</td>\n",
       "      <td>-0.05</td>\n",
       "    </tr>\n",
       "    <tr>\n",
       "      <th>10%</th>\n",
       "      <td>-0.02</td>\n",
       "      <td>-0.01</td>\n",
       "      <td>-0.01</td>\n",
       "      <td>-0.01</td>\n",
       "    </tr>\n",
       "    <tr>\n",
       "      <th>50%</th>\n",
       "      <td>0.02</td>\n",
       "      <td>0.02</td>\n",
       "      <td>0.02</td>\n",
       "      <td>0.02</td>\n",
       "    </tr>\n",
       "    <tr>\n",
       "      <th>90%</th>\n",
       "      <td>0.09</td>\n",
       "      <td>0.08</td>\n",
       "      <td>0.08</td>\n",
       "      <td>0.08</td>\n",
       "    </tr>\n",
       "    <tr>\n",
       "      <th>99%</th>\n",
       "      <td>0.17</td>\n",
       "      <td>0.17</td>\n",
       "      <td>0.17</td>\n",
       "      <td>0.16</td>\n",
       "    </tr>\n",
       "  </tbody>\n",
       "</table>\n",
       "</div>"
      ]
     },
     "metadata": {},
     "output_type": "display_data"
    },
    {
     "name": "stdout",
     "output_type": "stream",
     "text": [
      "\n",
      "Similarity to Translation Bureau Translation\n"
     ]
    },
    {
     "data": {
      "text/plain": [
       "                           0            1                     2        3\n",
       "translator_name  m2m100_418m  mbart50_mmt  nllb_3b_researchonly  opus_mt\n",
       "mean                    0.92         0.93                  0.93     0.94\n",
       "min                     0.16         0.47                  0.02     0.55\n",
       "max                     1.00         1.00                  1.00     1.00\n",
       "1%                      0.73         0.76                  0.75     0.77\n",
       "10%                     0.85         0.87                  0.87     0.88\n",
       "50%                     0.93         0.94                  0.95     0.95\n",
       "90%                     0.98         0.99                  0.99     0.99\n",
       "99%                     1.00         1.00                  1.00     1.00"
      ],
      "text/html": [
       "<div>\n",
       "<style scoped>\n",
       "    .dataframe tbody tr th:only-of-type {\n",
       "        vertical-align: middle;\n",
       "    }\n",
       "\n",
       "    .dataframe tbody tr th {\n",
       "        vertical-align: top;\n",
       "    }\n",
       "\n",
       "    .dataframe thead th {\n",
       "        text-align: right;\n",
       "    }\n",
       "</style>\n",
       "<table border=\"1\" class=\"dataframe\">\n",
       "  <thead>\n",
       "    <tr style=\"text-align: right;\">\n",
       "      <th></th>\n",
       "      <th>0</th>\n",
       "      <th>1</th>\n",
       "      <th>2</th>\n",
       "      <th>3</th>\n",
       "    </tr>\n",
       "  </thead>\n",
       "  <tbody>\n",
       "    <tr>\n",
       "      <th>translator_name</th>\n",
       "      <td>m2m100_418m</td>\n",
       "      <td>mbart50_mmt</td>\n",
       "      <td>nllb_3b_researchonly</td>\n",
       "      <td>opus_mt</td>\n",
       "    </tr>\n",
       "    <tr>\n",
       "      <th>mean</th>\n",
       "      <td>0.92</td>\n",
       "      <td>0.93</td>\n",
       "      <td>0.93</td>\n",
       "      <td>0.94</td>\n",
       "    </tr>\n",
       "    <tr>\n",
       "      <th>min</th>\n",
       "      <td>0.16</td>\n",
       "      <td>0.47</td>\n",
       "      <td>0.02</td>\n",
       "      <td>0.55</td>\n",
       "    </tr>\n",
       "    <tr>\n",
       "      <th>max</th>\n",
       "      <td>1.00</td>\n",
       "      <td>1.00</td>\n",
       "      <td>1.00</td>\n",
       "      <td>1.00</td>\n",
       "    </tr>\n",
       "    <tr>\n",
       "      <th>1%</th>\n",
       "      <td>0.73</td>\n",
       "      <td>0.76</td>\n",
       "      <td>0.75</td>\n",
       "      <td>0.77</td>\n",
       "    </tr>\n",
       "    <tr>\n",
       "      <th>10%</th>\n",
       "      <td>0.85</td>\n",
       "      <td>0.87</td>\n",
       "      <td>0.87</td>\n",
       "      <td>0.88</td>\n",
       "    </tr>\n",
       "    <tr>\n",
       "      <th>50%</th>\n",
       "      <td>0.93</td>\n",
       "      <td>0.94</td>\n",
       "      <td>0.95</td>\n",
       "      <td>0.95</td>\n",
       "    </tr>\n",
       "    <tr>\n",
       "      <th>90%</th>\n",
       "      <td>0.98</td>\n",
       "      <td>0.99</td>\n",
       "      <td>0.99</td>\n",
       "      <td>0.99</td>\n",
       "    </tr>\n",
       "    <tr>\n",
       "      <th>99%</th>\n",
       "      <td>1.00</td>\n",
       "      <td>1.00</td>\n",
       "      <td>1.00</td>\n",
       "      <td>1.00</td>\n",
       "    </tr>\n",
       "  </tbody>\n",
       "</table>\n",
       "</div>"
      ]
     },
     "metadata": {},
     "output_type": "display_data"
    }
   ],
   "execution_count": 3
  },
  {
   "metadata": {
    "ExecuteTime": {
     "end_time": "2025-08-07T17:03:40.020303Z",
     "start_time": "2025-08-07T17:03:40.018836Z"
    }
   },
   "cell_type": "code",
   "source": "# opus is the best, but all are good",
   "id": "d20b8354f5bdad4f",
   "outputs": [],
   "execution_count": null
  },
  {
   "metadata": {},
   "cell_type": "markdown",
   "source": [
    "# how do i choose a model if they all perform well and they're not very different?\n",
    "OPTIONS:\n",
    "* just do opus\n",
    "* finetune all of them, and recheck performance\n",
    "* pick the smallest one\n",
    "* best bad values - highest min / 1%\n",
    "* best total values (even if they're very close)"
   ],
   "id": "63e22180adbeb700"
  },
  {
   "metadata": {},
   "cell_type": "code",
   "outputs": [],
   "execution_count": null,
   "source": "",
   "id": "6eee85ca67f0088"
  }
 ],
 "metadata": {
  "kernelspec": {
   "display_name": "Python 3",
   "language": "python",
   "name": "python3"
  },
  "language_info": {
   "codemirror_mode": {
    "name": "ipython",
    "version": 2
   },
   "file_extension": ".py",
   "mimetype": "text/x-python",
   "name": "python",
   "nbconvert_exporter": "python",
   "pygments_lexer": "ipython2",
   "version": "2.7.6"
  }
 },
 "nbformat": 4,
 "nbformat_minor": 5
}
