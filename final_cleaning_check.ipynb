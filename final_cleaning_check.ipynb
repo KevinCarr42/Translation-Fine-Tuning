{
 "cells": [
  {
   "metadata": {},
   "cell_type": "code",
   "source": [
    "import pandas as pd\n",
    "\n",
    "# best dataset (by inspection, they're all statistically similar)\n",
    "df = pd.read_pickle(r\"C:\\Users\\CARRK\\Documents\\Repositories\\AI\\DataCleaning\\matched_data_wo_linebreaks.pickle\")\n",
    "\n",
    "# the same dataset after cleaning\n",
    "df_clean = pd.read_pickle(\"df_clean.pickle\")"
   ],
   "id": "f4030ff649c072b",
   "outputs": [],
   "execution_count": null
  },
  {
   "metadata": {},
   "cell_type": "code",
   "source": [
    "# statistics for similarities\n",
    "def plot_stats(dataframe):\n",
    "    display(dataframe.describe());\n",
    "    display(dataframe['similarity'].hist(bins=30, figsize=(16, 4)));\n",
    "    \n",
    "print(\"\\nBEFORE\\n\")\n",
    "plot_stats(df)\n",
    "print(\"\\nAFTER\\n\")\n",
    "plot_stats(df_clean)"
   ],
   "id": "d8744ed0b0065e62",
   "outputs": [],
   "execution_count": null
  },
  {
   "metadata": {},
   "cell_type": "code",
   "source": [
    "def inspect_bad_code(dataframe, dataframe2=None, threshold=0.8):\n",
    "    random_state = 42\n",
    "    n_samples = 42\n",
    "    \n",
    "    bad_df = dataframe[dataframe.similarity < threshold].sample(n_samples, random_state=random_state).sort_values('similarity')\n",
    "    \n",
    "    for i, row in bad_df.iterrows():\n",
    "        print('similarity:', row['similarity'])\n",
    "        print(row['fr'])\n",
    "        print(row['en'])\n",
    "        if dataframe2 is not None:\n",
    "            row2 = dataframe2.iloc[i]\n",
    "            if row2['similarity'] > row['similarity']:\n",
    "                print('\\tupdated to have similarity:', row2['similarity'])\n",
    "                print('\\t', row2['fr'])\n",
    "                print('\\t', row2['en'])\n",
    "                print()\n",
    "        print()\n",
    "   \n",
    "        \n",
    "inspect_bad_code(df, df_clean)"
   ],
   "id": "eac29d113037d23e",
   "outputs": [],
   "execution_count": null
  }
 ],
 "metadata": {
  "kernelspec": {
   "name": "python3",
   "language": "python",
   "display_name": "Python 3 (ipykernel)"
  }
 },
 "nbformat": 5,
 "nbformat_minor": 9
}
