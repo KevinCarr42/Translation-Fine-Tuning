{
 "cells": [
  {
   "metadata": {
    "ExecuteTime": {
     "end_time": "2025-08-07T16:39:05.103704Z",
     "start_time": "2025-08-07T16:39:04.288142Z"
    }
   },
   "cell_type": "code",
   "source": [
    "import re\n",
    "import pandas as pd\n",
    "\n",
    "from create_jsonl import save_jsonl\n",
    "\n",
    "# pandas formatting\n",
    "pd.set_option('display.max_rows', 100)\n",
    "pd.set_option('display.max_columns', 100)\n",
    "pd.set_option('max_colwidth', 100)\n",
    "pd.set_option('display.float_format', '{:.2f}'.format)\n",
    "\n",
    "# the same dataset after cleaning\n",
    "df_features = pd.read_pickle(\"df_with_features.pickle\")\n",
    "\n",
    "percentiles = [0.00135, 0.02275, 0.1587, 0.8413, 0.97725, 0.99865]\n",
    "columns = ['50%', '0.1%', '2.3%', '15.9%', '84.1%', '97.7%', '99.9%']"
   ],
   "id": "c002d1ba002a9b01",
   "outputs": [],
   "execution_count": 1
  },
  {
   "metadata": {},
   "cell_type": "markdown",
   "source": "# New Feature - number of 1-character words",
   "id": "d15ef3d7d85f2627"
  },
  {
   "metadata": {
    "ExecuteTime": {
     "end_time": "2025-08-07T16:39:21.253435Z",
     "start_time": "2025-08-07T16:39:05.106786Z"
    }
   },
   "cell_type": "code",
   "source": [
    "one_char_words_fr = df_features['fr'].str.split().explode().loc[lambda s: s.str.len() == 1]\n",
    "df_counts_fr = one_char_words_fr.value_counts().reset_index(name='count').rename(columns={'index': 'word'})\n",
    "actual_one_char_words_fr = ['À', 'A', 'À', 'L', 'D', 'N', 'Y', 'M', 'S', 'T', 'à', 'a', 'à', 'l', 'd', 'n', 'y', 'm', 's', 't']\n",
    "\n",
    "one_char_words_en = df_features['en'].str.split().explode().loc[lambda s: s.str.len() == 1]\n",
    "df_counts_en = one_char_words_en.value_counts().reset_index(name='count').rename(columns={'index': 'word'})\n",
    "actual_one_char_words_en = ['A', 'I', 'O', 'a', 'o']\n",
    "\n",
    "df_features['one_char_words_fr'] = df_features['fr'].apply(lambda s: sum(len(w) == 1 for w in s.split() if w not in actual_one_char_words_fr))\n",
    "df_features['one_char_words_en'] = df_features['en'].apply(lambda s: sum(len(w) == 1 for w in s.split() if w not in actual_one_char_words_en))"
   ],
   "id": "d7d31cb8f28efb3e",
   "outputs": [],
   "execution_count": 2
  },
  {
   "metadata": {},
   "cell_type": "markdown",
   "source": "# Exclusions",
   "id": "bfc05f04707bba3"
  },
  {
   "metadata": {
    "ExecuteTime": {
     "end_time": "2025-08-07T16:39:22.391740Z",
     "start_time": "2025-08-07T16:39:22.203871Z"
    }
   },
   "cell_type": "code",
   "source": "df_features.describe(percentiles).loc[columns].T",
   "id": "f71fa85d0e9de4c9",
   "outputs": [
    {
     "data": {
      "text/plain": [
       "                   50%  0.1%  2.3%  15.9%  84.1%  97.7%  99.9%\n",
       "similarity        0.85  0.70  0.71   0.76   0.92   0.96   0.98\n",
       "len_ratio         1.21  0.34  0.75   1.05   1.42   1.92   3.93\n",
       "verb_ratio        1.00  0.25  0.50   0.75   1.50   3.00   5.00\n",
       "noun_ratio        1.20  0.38  0.67   1.00   1.75   4.00  12.00\n",
       "entity_ratio      0.75  0.10  0.17   0.33   1.00   2.00   4.00\n",
       "clause_ratio      1.00  0.20  0.50   1.00   1.50   3.00   6.00\n",
       "one_char_words_fr 0.00  0.00  0.00   0.00   1.00   3.00  11.00\n",
       "one_char_words_en 0.00  0.00  0.00   0.00   1.00   3.00  11.00"
      ],
      "text/html": [
       "<div>\n",
       "<style scoped>\n",
       "    .dataframe tbody tr th:only-of-type {\n",
       "        vertical-align: middle;\n",
       "    }\n",
       "\n",
       "    .dataframe tbody tr th {\n",
       "        vertical-align: top;\n",
       "    }\n",
       "\n",
       "    .dataframe thead th {\n",
       "        text-align: right;\n",
       "    }\n",
       "</style>\n",
       "<table border=\"1\" class=\"dataframe\">\n",
       "  <thead>\n",
       "    <tr style=\"text-align: right;\">\n",
       "      <th></th>\n",
       "      <th>50%</th>\n",
       "      <th>0.1%</th>\n",
       "      <th>2.3%</th>\n",
       "      <th>15.9%</th>\n",
       "      <th>84.1%</th>\n",
       "      <th>97.7%</th>\n",
       "      <th>99.9%</th>\n",
       "    </tr>\n",
       "  </thead>\n",
       "  <tbody>\n",
       "    <tr>\n",
       "      <th>similarity</th>\n",
       "      <td>0.85</td>\n",
       "      <td>0.70</td>\n",
       "      <td>0.71</td>\n",
       "      <td>0.76</td>\n",
       "      <td>0.92</td>\n",
       "      <td>0.96</td>\n",
       "      <td>0.98</td>\n",
       "    </tr>\n",
       "    <tr>\n",
       "      <th>len_ratio</th>\n",
       "      <td>1.21</td>\n",
       "      <td>0.34</td>\n",
       "      <td>0.75</td>\n",
       "      <td>1.05</td>\n",
       "      <td>1.42</td>\n",
       "      <td>1.92</td>\n",
       "      <td>3.93</td>\n",
       "    </tr>\n",
       "    <tr>\n",
       "      <th>verb_ratio</th>\n",
       "      <td>1.00</td>\n",
       "      <td>0.25</td>\n",
       "      <td>0.50</td>\n",
       "      <td>0.75</td>\n",
       "      <td>1.50</td>\n",
       "      <td>3.00</td>\n",
       "      <td>5.00</td>\n",
       "    </tr>\n",
       "    <tr>\n",
       "      <th>noun_ratio</th>\n",
       "      <td>1.20</td>\n",
       "      <td>0.38</td>\n",
       "      <td>0.67</td>\n",
       "      <td>1.00</td>\n",
       "      <td>1.75</td>\n",
       "      <td>4.00</td>\n",
       "      <td>12.00</td>\n",
       "    </tr>\n",
       "    <tr>\n",
       "      <th>entity_ratio</th>\n",
       "      <td>0.75</td>\n",
       "      <td>0.10</td>\n",
       "      <td>0.17</td>\n",
       "      <td>0.33</td>\n",
       "      <td>1.00</td>\n",
       "      <td>2.00</td>\n",
       "      <td>4.00</td>\n",
       "    </tr>\n",
       "    <tr>\n",
       "      <th>clause_ratio</th>\n",
       "      <td>1.00</td>\n",
       "      <td>0.20</td>\n",
       "      <td>0.50</td>\n",
       "      <td>1.00</td>\n",
       "      <td>1.50</td>\n",
       "      <td>3.00</td>\n",
       "      <td>6.00</td>\n",
       "    </tr>\n",
       "    <tr>\n",
       "      <th>one_char_words_fr</th>\n",
       "      <td>0.00</td>\n",
       "      <td>0.00</td>\n",
       "      <td>0.00</td>\n",
       "      <td>0.00</td>\n",
       "      <td>1.00</td>\n",
       "      <td>3.00</td>\n",
       "      <td>11.00</td>\n",
       "    </tr>\n",
       "    <tr>\n",
       "      <th>one_char_words_en</th>\n",
       "      <td>0.00</td>\n",
       "      <td>0.00</td>\n",
       "      <td>0.00</td>\n",
       "      <td>0.00</td>\n",
       "      <td>1.00</td>\n",
       "      <td>3.00</td>\n",
       "      <td>11.00</td>\n",
       "    </tr>\n",
       "  </tbody>\n",
       "</table>\n",
       "</div>"
      ]
     },
     "execution_count": 3,
     "metadata": {},
     "output_type": "execute_result"
    }
   ],
   "execution_count": 3
  },
  {
   "metadata": {
    "ExecuteTime": {
     "end_time": "2025-08-07T16:39:22.437913Z",
     "start_time": "2025-08-07T16:39:22.433683Z"
    }
   },
   "cell_type": "code",
   "source": [
    "# exclude similarity < 0.757 (1 stdev below median)\n",
    "\n",
    "# when similarity < 0.85 (median)\n",
    "outlier_criteria_s1 = {\n",
    "    \"len_ratio\": (0.75, 1.92),  # override with 2 stdev len ratios\n",
    "    \"verb_ratio\": (0.75, 1.50),\n",
    "    \"noun_ratio\": (1.00, 1.75),\n",
    "    \"entity_ratio\": (0.33, 1.00),\n",
    "    \"clause_ratio\": (1.00, 1.50),\n",
    "    \"one_char_words_fr\": (0.0, 1.0),\n",
    "    \"one_char_words_en\": (0.0, 1.0),\n",
    "}\n",
    "\n",
    "# when similarity < 0.92 (1 stdev above median)\n",
    "outlier_criteria_s2 = {\n",
    "    \"len_ratio\": (0.75, 1.92),\n",
    "    \"verb_ratio\": (0.50, 3.00),\n",
    "    \"noun_ratio\": (0.67, 4.00),\n",
    "    \"entity_ratio\": (0.17, 2.00),\n",
    "    \"clause_ratio\": (0.50, 3.00),\n",
    "    \"one_char_words_fr\": (0.0, 3.0),\n",
    "    \"one_char_words_en\": (0.0, 3.0),\n",
    "}\n",
    "\n",
    "# all higher similarities\n",
    "outlier_criteria_s3 = {\n",
    "    \"len_ratio\": (0.34, 3.93),\n",
    "    \"verb_ratio\": (0.25, 5.00),\n",
    "    \"noun_ratio\": (0.38, 12.00),\n",
    "    \"entity_ratio\": (0.10, 4.00),\n",
    "    \"clause_ratio\": (0.20, 6.00),\n",
    "    \"one_char_words_fr\": (0.0, 11.0),\n",
    "    \"one_char_words_en\": (0.0, 11.0),\n",
    "}"
   ],
   "id": "3d0bf3aa61b0c34d",
   "outputs": [],
   "execution_count": 4
  },
  {
   "metadata": {
    "ExecuteTime": {
     "end_time": "2025-08-07T16:39:22.807914Z",
     "start_time": "2025-08-07T16:39:22.611394Z"
    }
   },
   "cell_type": "code",
   "source": [
    "for outlier_criteria in [outlier_criteria_s1, outlier_criteria_s2, outlier_criteria_s3]:\n",
    "    print()\n",
    "    for feature, (x, y) in outlier_criteria.items():\n",
    "        print(f\"{feature:<20}\", end=\"\")\n",
    "        print(f\"number below {x}:\\t{df_features[df_features[feature] < x].shape[0]:<10}\", end=\"\\t\\t\")\n",
    "        print(f\"number above {y}:\\t{df_features[df_features[feature] > y].shape[0]:<10}\")"
   ],
   "id": "6fe3d9475fa712fb",
   "outputs": [
    {
     "name": "stdout",
     "output_type": "stream",
     "text": [
      "\n",
      "len_ratio           number below 0.75:\t17869     \t\tnumber above 1.92:\t17871     \n",
      "verb_ratio          number below 0.75:\t107322    \t\tnumber above 1.5:\t108955    \n",
      "noun_ratio          number below 1.0:\t104712    \t\tnumber above 1.75:\t116633    \n",
      "entity_ratio        number below 0.33:\t79250     \t\tnumber above 1.0:\t84643     \n",
      "clause_ratio        number below 1.0:\t120154    \t\tnumber above 1.5:\t107848    \n",
      "one_char_words_fr   number below 0.0:\t0         \t\tnumber above 1.0:\t59487     \n",
      "one_char_words_en   number below 0.0:\t0         \t\tnumber above 1.0:\t52257     \n",
      "\n",
      "len_ratio           number below 0.75:\t17869     \t\tnumber above 1.92:\t17871     \n",
      "verb_ratio          number below 0.5:\t12007     \t\tnumber above 3.0:\t6404      \n",
      "noun_ratio          number below 0.67:\t17769     \t\tnumber above 4.0:\t14641     \n",
      "entity_ratio        number below 0.17:\t19930     \t\tnumber above 2.0:\t11003     \n",
      "clause_ratio        number below 0.5:\t16753     \t\tnumber above 3.0:\t8048      \n",
      "one_char_words_fr   number below 0.0:\t0         \t\tnumber above 3.0:\t10655     \n",
      "one_char_words_en   number below 0.0:\t0         \t\tnumber above 3.0:\t10861     \n",
      "\n",
      "len_ratio           number below 0.34:\t1024      \t\tnumber above 3.93:\t1047      \n",
      "verb_ratio          number below 0.25:\t599       \t\tnumber above 5.0:\t354       \n",
      "noun_ratio          number below 0.38:\t1071      \t\tnumber above 12.0:\t1011      \n",
      "entity_ratio        number below 0.1:\t1010      \t\tnumber above 4.0:\t811       \n",
      "clause_ratio        number below 0.2:\t877       \t\tnumber above 6.0:\t1019      \n",
      "one_char_words_fr   number below 0.0:\t0         \t\tnumber above 11.0:\t1004      \n",
      "one_char_words_en   number below 0.0:\t0         \t\tnumber above 11.0:\t1049      \n"
     ]
    }
   ],
   "execution_count": 5
  },
  {
   "metadata": {
    "ExecuteTime": {
     "end_time": "2025-08-07T16:39:23.144634Z",
     "start_time": "2025-08-07T16:39:22.940717Z"
    }
   },
   "cell_type": "code",
   "source": [
    "df_features[\"exclude_low_similarity\"] = df_features[\"similarity\"] < 0.757\n",
    "\n",
    "s1_mask = df_features[\"similarity\"] < 0.85\n",
    "s2_mask = (df_features[\"similarity\"] >= 0.85) & (df_features[\"similarity\"] < 0.92)\n",
    "s3_mask = df_features[\"similarity\"] >= 0.92\n",
    "criteria = {\n",
    "    \"s1\": outlier_criteria_s1,\n",
    "    \"s2\": outlier_criteria_s2,\n",
    "    \"s3\": outlier_criteria_s3,\n",
    "}\n",
    "\n",
    "for feature in outlier_criteria_s1:\n",
    "    col_name = f\"exclude_{feature}\"\n",
    "    df_features[col_name] = False\n",
    "\n",
    "    low1, high1 = outlier_criteria_s1[feature]\n",
    "    low2, high2 = outlier_criteria_s2[feature]\n",
    "    low3, high3 = outlier_criteria_s3[feature]\n",
    "\n",
    "    df_features.loc[s1_mask, col_name] = ~df_features.loc[s1_mask, feature].between(low1, high1)\n",
    "    df_features.loc[s2_mask, col_name] = ~df_features.loc[s2_mask, feature].between(low2, high2)\n",
    "    df_features.loc[s3_mask, col_name] = ~df_features.loc[s3_mask, feature].between(low3, high3)\n"
   ],
   "id": "5fabefcbf4ab8680",
   "outputs": [],
   "execution_count": 6
  },
  {
   "metadata": {},
   "cell_type": "markdown",
   "source": "# exclude figure and table text",
   "id": "bd6e91e1dc90db73"
  },
  {
   "metadata": {
    "ExecuteTime": {
     "end_time": "2025-08-07T16:39:23.160706Z",
     "start_time": "2025-08-07T16:39:23.153643Z"
    }
   },
   "cell_type": "code",
   "source": [
    "def analyze_text_for_figrefs(text, language='en'):\n",
    "    result = {\n",
    "        'has_trailing_numbers': False,\n",
    "        'has_parenthetical_numbers': False,\n",
    "        'has_figure_references': False,\n",
    "        'has_repeated_punctuation': False,\n",
    "        'exclude_figtext': False\n",
    "    }\n",
    "\n",
    "    # Check for trailing numbers\n",
    "    if re.search(r'\\s+\\d+\\s*$', text):\n",
    "        result['has_trailing_numbers'] = True\n",
    "\n",
    "    # Check for parenthetical numbers\n",
    "    if re.search(r'\\s+\\(\\d+\\)\\s*$', text):\n",
    "        result['has_parenthetical_numbers'] = True\n",
    "\n",
    "    # Check for figure/table references (with French support)\n",
    "    if language == 'fr':\n",
    "        # French patterns: Figure, Tableau, Fig., Tab.\n",
    "        pattern = r'\\s*(?:Figure|Tableau|Fig\\.?|Tab\\.?)\\s+\\d+.*$'\n",
    "    else:\n",
    "        # English patterns: Figure, Table, Fig., Tab.\n",
    "        pattern = r'\\s*(?:Figure|Table|Fig\\.?|Tab\\.?)\\s+\\d+.*$'\n",
    "\n",
    "    if re.search(pattern, text, flags=re.IGNORECASE):\n",
    "        result['has_figure_references'] = True\n",
    "\n",
    "    # Check for repeated punctuation\n",
    "    if re.search(r'[.!?]{2,}$', text):\n",
    "        result['has_repeated_punctuation'] = True\n",
    "\n",
    "    # Set exclude flag if any issue found\n",
    "    result['exclude_figtext'] = any([\n",
    "        result['has_figure_references'],\n",
    "        result['has_trailing_numbers'],\n",
    "        result['has_parenthetical_numbers'],\n",
    "        result['has_repeated_punctuation']\n",
    "    ])\n",
    "\n",
    "    return result\n",
    "\n",
    "def process_bilingual_dataframe(df, text_en_column='text_en', text_fr_column='text_fr'):\n",
    "    en_results = df[text_en_column].apply(lambda x: analyze_text_for_figrefs(x, language='en'))\n",
    "    fr_results = df[text_fr_column].apply(lambda x: analyze_text_for_figrefs(x, language='fr'))\n",
    "\n",
    "    df['has_trailing_numbers_en'] = en_results.apply(lambda x: x['has_trailing_numbers'])\n",
    "    df['has_parenthetical_numbers_en'] = en_results.apply(lambda x: x['has_parenthetical_numbers'])\n",
    "    df['has_figure_references_en'] = en_results.apply(lambda x: x['has_figure_references'])\n",
    "    df['has_repeated_punctuation_en'] = en_results.apply(lambda x: x['has_repeated_punctuation'])\n",
    "    df['exclude_figtext_en'] = en_results.apply(lambda x: x['exclude_figtext'])\n",
    "\n",
    "    df['has_trailing_numbers_fr'] = fr_results.apply(lambda x: x['has_trailing_numbers'])\n",
    "    df['has_parenthetical_numbers_fr'] = fr_results.apply(lambda x: x['has_parenthetical_numbers'])\n",
    "    df['has_figure_references_fr'] = fr_results.apply(lambda x: x['has_figure_references'])\n",
    "    df['has_repeated_punctuation_fr'] = fr_results.apply(lambda x: x['has_repeated_punctuation'])\n",
    "    df['exclude_figtext_fr'] = fr_results.apply(lambda x: x['exclude_figtext'])\n",
    "\n",
    "    df['exclude_figtext'] = df['exclude_figtext_en'] | df['exclude_figtext_fr']\n",
    "\n",
    "    return df\n",
    "\n",
    "def process_bilingual_dataframe_simple(df, text_en_column='en', text_fr_column='fr'):\n",
    "    # Analyze both columns\n",
    "    en_results = df[text_en_column].apply(lambda x: analyze_text_for_figrefs(x, language='en'))\n",
    "    fr_results = df[text_fr_column].apply(lambda x: analyze_text_for_figrefs(x, language='fr'))\n",
    "\n",
    "    # Add only the combined flag\n",
    "    df['exclude_figtext'] = (\n",
    "        en_results.apply(lambda x: x['exclude_figtext']) |\n",
    "        fr_results.apply(lambda x: x['exclude_figtext'])\n",
    "    )\n",
    "\n",
    "    return df"
   ],
   "id": "1abea2bdedc9b19e",
   "outputs": [],
   "execution_count": 7
  },
  {
   "metadata": {
    "ExecuteTime": {
     "end_time": "2025-08-07T16:39:42.019946Z",
     "start_time": "2025-08-07T16:39:23.170224Z"
    }
   },
   "cell_type": "code",
   "source": "df_features = process_bilingual_dataframe_simple(df_features)",
   "id": "3be5558fc696118e",
   "outputs": [],
   "execution_count": 8
  },
  {
   "metadata": {
    "ExecuteTime": {
     "end_time": "2025-08-07T16:39:42.053296Z",
     "start_time": "2025-08-07T16:39:42.028045Z"
    }
   },
   "cell_type": "code",
   "source": "df_features[df_features.exclude_figtext].shape[0]",
   "id": "2cba06f4ba8f94b4",
   "outputs": [
    {
     "data": {
      "text/plain": [
       "141566"
      ]
     },
     "execution_count": 9,
     "metadata": {},
     "output_type": "execute_result"
    }
   ],
   "execution_count": 9
  },
  {
   "metadata": {},
   "cell_type": "markdown",
   "source": [
    "# how many sentences have years or months in them?\n",
    "### exclude these as well?"
   ],
   "id": "f933d2b4de91211a"
  },
  {
   "metadata": {
    "ExecuteTime": {
     "end_time": "2025-08-07T16:41:26.845603Z",
     "start_time": "2025-08-07T16:39:42.094791Z"
    }
   },
   "cell_type": "code",
   "source": "df_features['has_date_refs'] = df_features[['en', 'fr']].apply(lambda x: x.astype(str).str.contains(r'\\b(?:19|20)\\d{2}\\b|(?:January|February|March|April|May|June|July|August|September|October|November|December|janvier|février|mars|avril|mai|juin|juillet|août|septembre|octobre|novembre|décembre|Jan|Feb|Mar|Apr|Jun|Jul|Aug|Sep|Oct|Nov|Dec)\\b', case=False, regex=True).any(), axis=1)",
   "id": "cfb43aec12df6b44",
   "outputs": [],
   "execution_count": 10
  },
  {
   "metadata": {
    "ExecuteTime": {
     "end_time": "2025-08-07T16:41:26.890772Z",
     "start_time": "2025-08-07T16:41:26.858424Z"
    }
   },
   "cell_type": "code",
   "source": "df_features[df_features['has_date_refs']].shape[0]",
   "id": "c5d4701969b80748",
   "outputs": [
    {
     "data": {
      "text/plain": [
       "262138"
      ]
     },
     "execution_count": 11,
     "metadata": {},
     "output_type": "execute_result"
    }
   ],
   "execution_count": 11
  },
  {
   "metadata": {},
   "cell_type": "markdown",
   "source": "# exclude all (270k is plenty of training data)",
   "id": "dac53290075c401"
  },
  {
   "metadata": {
    "ExecuteTime": {
     "end_time": "2025-08-07T16:41:26.923625Z",
     "start_time": "2025-08-07T16:41:26.909858Z"
    }
   },
   "cell_type": "code",
   "source": [
    "exclusion_columns = [\n",
    "    'exclude_low_similarity',\n",
    "    'exclude_len_ratio',\n",
    "    'exclude_verb_ratio',\n",
    "    'exclude_noun_ratio',\n",
    "    'exclude_entity_ratio',\n",
    "    'exclude_clause_ratio',\n",
    "    'exclude_one_char_words_fr',\n",
    "    'exclude_one_char_words_en',\n",
    "    'exclude_figtext',\n",
    "    'has_date_refs',\n",
    "]\n",
    "df_features[\"exclude\"] = df_features[exclusion_columns].any(axis=1)"
   ],
   "id": "588bfa0c9240c93a",
   "outputs": [],
   "execution_count": 12
  },
  {
   "metadata": {
    "ExecuteTime": {
     "end_time": "2025-08-07T16:41:26.966774Z",
     "start_time": "2025-08-07T16:41:26.948285Z"
    }
   },
   "cell_type": "code",
   "source": [
    "# how many exclusions does this lead to?\n",
    "\"\"\" before n_char==1 excl:\n",
    "\n",
    "exclude_low_similarity    121566\n",
    "exclude_len_ratio          35269\n",
    "exclude_verb_ratio        125555\n",
    "exclude_noun_ratio        141034\n",
    "exclude_entity_ratio       99526\n",
    "exclude_clause_ratio      131022\n",
    "exclude_figtext           141566\n",
    "has_date_refs             262138\n",
    "exclude                   507842\n",
    "dtype: int64\n",
    "\n",
    "\"\"\"\n",
    "\n",
    "df_features[exclusion_columns + ['exclude']].sum()"
   ],
   "id": "492184ae0ab1344e",
   "outputs": [
    {
     "data": {
      "text/plain": [
       "exclude_low_similarity       121566\n",
       "exclude_len_ratio             35269\n",
       "exclude_verb_ratio           125555\n",
       "exclude_noun_ratio           141034\n",
       "exclude_entity_ratio          99526\n",
       "exclude_clause_ratio         131022\n",
       "exclude_one_char_words_fr     37056\n",
       "exclude_one_char_words_en     32075\n",
       "exclude_figtext              141566\n",
       "has_date_refs                262138\n",
       "exclude                      511537\n",
       "dtype: int64"
      ]
     },
     "execution_count": 13,
     "metadata": {},
     "output_type": "execute_result"
    }
   ],
   "execution_count": 13
  },
  {
   "metadata": {
    "ExecuteTime": {
     "end_time": "2025-08-07T16:41:27.073841Z",
     "start_time": "2025-08-07T16:41:27.009178Z"
    }
   },
   "cell_type": "code",
   "source": [
    "# how many translations are left after this cleaning? (half a million)\n",
    "\n",
    "df_features[~df_features[\"exclude\"]].shape[0], df_features[~df_features[\"exclude\"]].shape[0] / df_features.shape[0]"
   ],
   "id": "29a1e3a7c1056560",
   "outputs": [
    {
     "data": {
      "text/plain": [
       "(267414, 0.3433001562357581)"
      ]
     },
     "execution_count": 14,
     "metadata": {},
     "output_type": "execute_result"
    }
   ],
   "execution_count": 14
  },
  {
   "metadata": {},
   "cell_type": "markdown",
   "source": "# make sure bad ones are caught",
   "id": "496cc62883db657c"
  },
  {
   "metadata": {
    "ExecuteTime": {
     "end_time": "2025-08-07T16:41:27.187259Z",
     "start_time": "2025-08-07T16:41:27.168578Z"
    }
   },
   "cell_type": "code",
   "source": [
    "# check a few at random\n",
    "\n",
    "df_features.sample().T"
   ],
   "id": "98cc8a446a2a2690",
   "outputs": [
    {
     "data": {
      "text/plain": [
       "                                                                                     533286\n",
       "pub_number                                                                     SAR 2013/040\n",
       "fr                         La maturation sexuelle chez l esturgeon noir varie selon le sexe\n",
       "en                                Sexual maturity in the Atlantic Sturgeon varies by gender\n",
       "similarity                                                                             0.79\n",
       "len_ratio                                                                              1.12\n",
       "verb_ratio                                                                             1.00\n",
       "noun_ratio                                                                             1.33\n",
       "entity_ratio                                                                           0.50\n",
       "clause_ratio                                                                           1.00\n",
       "one_char_words_fr                                                                         0\n",
       "one_char_words_en                                                                         0\n",
       "exclude_low_similarity                                                                False\n",
       "exclude_len_ratio                                                                     False\n",
       "exclude_verb_ratio                                                                    False\n",
       "exclude_noun_ratio                                                                    False\n",
       "exclude_entity_ratio                                                                  False\n",
       "exclude_clause_ratio                                                                  False\n",
       "exclude_one_char_words_fr                                                             False\n",
       "exclude_one_char_words_en                                                             False\n",
       "exclude_figtext                                                                       False\n",
       "has_date_refs                                                                         False\n",
       "exclude                                                                               False"
      ],
      "text/html": [
       "<div>\n",
       "<style scoped>\n",
       "    .dataframe tbody tr th:only-of-type {\n",
       "        vertical-align: middle;\n",
       "    }\n",
       "\n",
       "    .dataframe tbody tr th {\n",
       "        vertical-align: top;\n",
       "    }\n",
       "\n",
       "    .dataframe thead th {\n",
       "        text-align: right;\n",
       "    }\n",
       "</style>\n",
       "<table border=\"1\" class=\"dataframe\">\n",
       "  <thead>\n",
       "    <tr style=\"text-align: right;\">\n",
       "      <th></th>\n",
       "      <th>533286</th>\n",
       "    </tr>\n",
       "  </thead>\n",
       "  <tbody>\n",
       "    <tr>\n",
       "      <th>pub_number</th>\n",
       "      <td>SAR 2013/040</td>\n",
       "    </tr>\n",
       "    <tr>\n",
       "      <th>fr</th>\n",
       "      <td>La maturation sexuelle chez l esturgeon noir varie selon le sexe</td>\n",
       "    </tr>\n",
       "    <tr>\n",
       "      <th>en</th>\n",
       "      <td>Sexual maturity in the Atlantic Sturgeon varies by gender</td>\n",
       "    </tr>\n",
       "    <tr>\n",
       "      <th>similarity</th>\n",
       "      <td>0.79</td>\n",
       "    </tr>\n",
       "    <tr>\n",
       "      <th>len_ratio</th>\n",
       "      <td>1.12</td>\n",
       "    </tr>\n",
       "    <tr>\n",
       "      <th>verb_ratio</th>\n",
       "      <td>1.00</td>\n",
       "    </tr>\n",
       "    <tr>\n",
       "      <th>noun_ratio</th>\n",
       "      <td>1.33</td>\n",
       "    </tr>\n",
       "    <tr>\n",
       "      <th>entity_ratio</th>\n",
       "      <td>0.50</td>\n",
       "    </tr>\n",
       "    <tr>\n",
       "      <th>clause_ratio</th>\n",
       "      <td>1.00</td>\n",
       "    </tr>\n",
       "    <tr>\n",
       "      <th>one_char_words_fr</th>\n",
       "      <td>0</td>\n",
       "    </tr>\n",
       "    <tr>\n",
       "      <th>one_char_words_en</th>\n",
       "      <td>0</td>\n",
       "    </tr>\n",
       "    <tr>\n",
       "      <th>exclude_low_similarity</th>\n",
       "      <td>False</td>\n",
       "    </tr>\n",
       "    <tr>\n",
       "      <th>exclude_len_ratio</th>\n",
       "      <td>False</td>\n",
       "    </tr>\n",
       "    <tr>\n",
       "      <th>exclude_verb_ratio</th>\n",
       "      <td>False</td>\n",
       "    </tr>\n",
       "    <tr>\n",
       "      <th>exclude_noun_ratio</th>\n",
       "      <td>False</td>\n",
       "    </tr>\n",
       "    <tr>\n",
       "      <th>exclude_entity_ratio</th>\n",
       "      <td>False</td>\n",
       "    </tr>\n",
       "    <tr>\n",
       "      <th>exclude_clause_ratio</th>\n",
       "      <td>False</td>\n",
       "    </tr>\n",
       "    <tr>\n",
       "      <th>exclude_one_char_words_fr</th>\n",
       "      <td>False</td>\n",
       "    </tr>\n",
       "    <tr>\n",
       "      <th>exclude_one_char_words_en</th>\n",
       "      <td>False</td>\n",
       "    </tr>\n",
       "    <tr>\n",
       "      <th>exclude_figtext</th>\n",
       "      <td>False</td>\n",
       "    </tr>\n",
       "    <tr>\n",
       "      <th>has_date_refs</th>\n",
       "      <td>False</td>\n",
       "    </tr>\n",
       "    <tr>\n",
       "      <th>exclude</th>\n",
       "      <td>False</td>\n",
       "    </tr>\n",
       "  </tbody>\n",
       "</table>\n",
       "</div>"
      ]
     },
     "execution_count": 15,
     "metadata": {},
     "output_type": "execute_result"
    }
   ],
   "execution_count": 15
  },
  {
   "metadata": {
    "ExecuteTime": {
     "end_time": "2025-08-07T16:41:27.248770Z",
     "start_time": "2025-08-07T16:41:27.244988Z"
    }
   },
   "cell_type": "code",
   "source": [
    "# this one looks good but will be excluded based on verb ratio and entity ratio \n",
    "#  maybe false negatives are OK if quality improves\n",
    "\n",
    "df_features.loc[485273]"
   ],
   "id": "a63a68c6c0f4051b",
   "outputs": [
    {
     "data": {
      "text/plain": [
       "pub_number                                                                                                          SAR 2009/027\n",
       "fr                           Selon les résultats des deux relevés post-saison, l indice d abondance des crabes commerciaux re...\n",
       "en                           Based on the results from the two postseason surveys, the abundance index of commercial crabs re...\n",
       "similarity                                                                                                                  0.81\n",
       "len_ratio                                                                                                                   0.99\n",
       "verb_ratio                                                                                                                  0.67\n",
       "noun_ratio                                                                                                                  1.12\n",
       "entity_ratio                                                                                                                0.25\n",
       "clause_ratio                                                                                                                1.00\n",
       "one_char_words_fr                                                                                                              0\n",
       "one_char_words_en                                                                                                              0\n",
       "exclude_low_similarity                                                                                                     False\n",
       "exclude_len_ratio                                                                                                          False\n",
       "exclude_verb_ratio                                                                                                          True\n",
       "exclude_noun_ratio                                                                                                         False\n",
       "exclude_entity_ratio                                                                                                        True\n",
       "exclude_clause_ratio                                                                                                       False\n",
       "exclude_one_char_words_fr                                                                                                  False\n",
       "exclude_one_char_words_en                                                                                                  False\n",
       "exclude_figtext                                                                                                            False\n",
       "has_date_refs                                                                                                               True\n",
       "exclude                                                                                                                     True\n",
       "Name: 485273, dtype: object"
      ]
     },
     "execution_count": 16,
     "metadata": {},
     "output_type": "execute_result"
    }
   ],
   "execution_count": 16
  },
  {
   "metadata": {
    "ExecuteTime": {
     "end_time": "2025-08-07T16:41:27.330720Z",
     "start_time": "2025-08-07T16:41:27.325848Z"
    }
   },
   "cell_type": "code",
   "source": [
    "# this one is almost caught by len_ratio and entity_ratio, but not quite unless lower limits are tweaked\n",
    "\n",
    "df_features.loc[498816]"
   ],
   "id": "2fcb3590b0e9ddcc",
   "outputs": [
    {
     "data": {
      "text/plain": [
       "pub_number                                                                                                          SAR 2010/020\n",
       "fr                           Sources d incertitude Il existe de l incertitude quant aux effets que des changements apportés à...\n",
       "en                           Newfoundland and Labrador Region 2HJ3KLNOPs4R Snow Crab 40 Sources of Uncertainty There is uncer...\n",
       "similarity                                                                                                                  0.82\n",
       "len_ratio                                                                                                                   0.77\n",
       "verb_ratio                                                                                                                  1.00\n",
       "noun_ratio                                                                                                                  1.12\n",
       "entity_ratio                                                                                                                0.20\n",
       "clause_ratio                                                                                                                1.00\n",
       "one_char_words_fr                                                                                                              0\n",
       "one_char_words_en                                                                                                              0\n",
       "exclude_low_similarity                                                                                                     False\n",
       "exclude_len_ratio                                                                                                          False\n",
       "exclude_verb_ratio                                                                                                         False\n",
       "exclude_noun_ratio                                                                                                         False\n",
       "exclude_entity_ratio                                                                                                        True\n",
       "exclude_clause_ratio                                                                                                       False\n",
       "exclude_one_char_words_fr                                                                                                  False\n",
       "exclude_one_char_words_en                                                                                                  False\n",
       "exclude_figtext                                                                                                            False\n",
       "has_date_refs                                                                                                              False\n",
       "exclude                                                                                                                     True\n",
       "Name: 498816, dtype: object"
      ]
     },
     "execution_count": 17,
     "metadata": {},
     "output_type": "execute_result"
    }
   ],
   "execution_count": 17
  },
  {
   "metadata": {
    "ExecuteTime": {
     "end_time": "2025-08-07T16:41:27.484983Z",
     "start_time": "2025-08-07T16:41:27.481089Z"
    }
   },
   "cell_type": "code",
   "source": [
    "# this one is good, but is excluded by entity_ratio if 0.33 is used as a lower limit\n",
    "\n",
    "df_features.loc[366969]"
   ],
   "id": "509dff41531f85f3",
   "outputs": [
    {
     "data": {
      "text/plain": [
       "pub_number                                                                                                          RES 2022/027\n",
       "fr                           De 2018 à 2021, plus de 80 de la biomasse cumulée était retrouvée entre 164 et 302 m à des tempé...\n",
       "en                           From 2018 to 2021, more than 80 of the cumulative biomass was found between 164 and 302 m at bot...\n",
       "similarity                                                                                                                  0.97\n",
       "len_ratio                                                                                                                   0.99\n",
       "verb_ratio                                                                                                                  1.00\n",
       "noun_ratio                                                                                                                  1.29\n",
       "entity_ratio                                                                                                                0.25\n",
       "clause_ratio                                                                                                                2.00\n",
       "one_char_words_fr                                                                                                              1\n",
       "one_char_words_en                                                                                                              2\n",
       "exclude_low_similarity                                                                                                     False\n",
       "exclude_len_ratio                                                                                                          False\n",
       "exclude_verb_ratio                                                                                                         False\n",
       "exclude_noun_ratio                                                                                                         False\n",
       "exclude_entity_ratio                                                                                                       False\n",
       "exclude_clause_ratio                                                                                                       False\n",
       "exclude_one_char_words_fr                                                                                                  False\n",
       "exclude_one_char_words_en                                                                                                  False\n",
       "exclude_figtext                                                                                                             True\n",
       "has_date_refs                                                                                                               True\n",
       "exclude                                                                                                                     True\n",
       "Name: 366969, dtype: object"
      ]
     },
     "execution_count": 18,
     "metadata": {},
     "output_type": "execute_result"
    }
   ],
   "execution_count": 18
  },
  {
   "metadata": {
    "ExecuteTime": {
     "end_time": "2025-08-07T16:41:27.673389Z",
     "start_time": "2025-08-07T16:41:27.669181Z"
    }
   },
   "cell_type": "code",
   "source": [
    "# this one is junk data, it is caught by multiple exclusion criteria\n",
    "\n",
    "df_features.loc[574405]"
   ],
   "id": "9913e2145dcd3c04",
   "outputs": [
    {
     "data": {
      "text/plain": [
       "pub_number                                                                                                          SAR 2017/033\n",
       "fr                           Saison Permis TAC (t) Débarquements (t) CPUE (kg casier levé) Effort (x 1 000 casiers levés) 200...\n",
       "en                           Season Licenses TAC (t) Landings (t) CPUE (kg trap haul) Effort (x1000 trap hauls) 2005 06 9 337...\n",
       "similarity                                                                                                                  0.78\n",
       "len_ratio                                                                                                                   1.10\n",
       "verb_ratio                                                                                                                  3.00\n",
       "noun_ratio                                                                                                                  4.64\n",
       "entity_ratio                                                                                                                0.12\n",
       "clause_ratio                                                                                                                7.50\n",
       "one_char_words_fr                                                                                                             15\n",
       "one_char_words_en                                                                                                             12\n",
       "exclude_low_similarity                                                                                                     False\n",
       "exclude_len_ratio                                                                                                          False\n",
       "exclude_verb_ratio                                                                                                          True\n",
       "exclude_noun_ratio                                                                                                          True\n",
       "exclude_entity_ratio                                                                                                        True\n",
       "exclude_clause_ratio                                                                                                        True\n",
       "exclude_one_char_words_fr                                                                                                   True\n",
       "exclude_one_char_words_en                                                                                                   True\n",
       "exclude_figtext                                                                                                             True\n",
       "has_date_refs                                                                                                               True\n",
       "exclude                                                                                                                     True\n",
       "Name: 574405, dtype: object"
      ]
     },
     "execution_count": 19,
     "metadata": {},
     "output_type": "execute_result"
    }
   ],
   "execution_count": 19
  },
  {
   "metadata": {
    "ExecuteTime": {
     "end_time": "2025-08-07T16:41:28.085797Z",
     "start_time": "2025-08-07T16:41:28.052394Z"
    }
   },
   "cell_type": "code",
   "source": "df_features[df_features.fr == \"0 1 - d o O U .- a t a Y O C d ' W I 1 I 1 N 1 N 1 N I N C U ) 1 N 1 1 N 1 M 1 N N I O M U ) I O Y O d l - - ' N r C l ) V) j L !,1 4 4 0 L O n C C ) m a o 7 F N ) ( V N N 1 N I N M\"].T",
   "id": "9590d23983ec049a",
   "outputs": [
    {
     "data": {
      "text/plain": [
       "                                                                                                                        143179\n",
       "pub_number                                                                                                        RES 1980/060\n",
       "fr                         0 1 - d o O U .- a t a Y O C d ' W I 1 I 1 N 1 N 1 N I N C U ) 1 N 1 1 N 1 M 1 N N I O M U ) I O...\n",
       "en                         a L c o c a ) o o c o L O a I 0 ) C D lC M r - C O M O c o O ) I O M r O ) m N.co N N Cr CO CO n...\n",
       "similarity                                                                                                                0.94\n",
       "len_ratio                                                                                                                 1.00\n",
       "verb_ratio                                                                                                                1.00\n",
       "noun_ratio                                                                                                                1.30\n",
       "entity_ratio                                                                                                              3.33\n",
       "clause_ratio                                                                                                              2.00\n",
       "one_char_words_fr                                                                                                           54\n",
       "one_char_words_en                                                                                                           49\n",
       "exclude_low_similarity                                                                                                   False\n",
       "exclude_len_ratio                                                                                                        False\n",
       "exclude_verb_ratio                                                                                                       False\n",
       "exclude_noun_ratio                                                                                                       False\n",
       "exclude_entity_ratio                                                                                                     False\n",
       "exclude_clause_ratio                                                                                                     False\n",
       "exclude_one_char_words_fr                                                                                                 True\n",
       "exclude_one_char_words_en                                                                                                 True\n",
       "exclude_figtext                                                                                                          False\n",
       "has_date_refs                                                                                                            False\n",
       "exclude                                                                                                                   True"
      ],
      "text/html": [
       "<div>\n",
       "<style scoped>\n",
       "    .dataframe tbody tr th:only-of-type {\n",
       "        vertical-align: middle;\n",
       "    }\n",
       "\n",
       "    .dataframe tbody tr th {\n",
       "        vertical-align: top;\n",
       "    }\n",
       "\n",
       "    .dataframe thead th {\n",
       "        text-align: right;\n",
       "    }\n",
       "</style>\n",
       "<table border=\"1\" class=\"dataframe\">\n",
       "  <thead>\n",
       "    <tr style=\"text-align: right;\">\n",
       "      <th></th>\n",
       "      <th>143179</th>\n",
       "    </tr>\n",
       "  </thead>\n",
       "  <tbody>\n",
       "    <tr>\n",
       "      <th>pub_number</th>\n",
       "      <td>RES 1980/060</td>\n",
       "    </tr>\n",
       "    <tr>\n",
       "      <th>fr</th>\n",
       "      <td>0 1 - d o O U .- a t a Y O C d ' W I 1 I 1 N 1 N 1 N I N C U ) 1 N 1 1 N 1 M 1 N N I O M U ) I O...</td>\n",
       "    </tr>\n",
       "    <tr>\n",
       "      <th>en</th>\n",
       "      <td>a L c o c a ) o o c o L O a I 0 ) C D lC M r - C O M O c o O ) I O M r O ) m N.co N N Cr CO CO n...</td>\n",
       "    </tr>\n",
       "    <tr>\n",
       "      <th>similarity</th>\n",
       "      <td>0.94</td>\n",
       "    </tr>\n",
       "    <tr>\n",
       "      <th>len_ratio</th>\n",
       "      <td>1.00</td>\n",
       "    </tr>\n",
       "    <tr>\n",
       "      <th>verb_ratio</th>\n",
       "      <td>1.00</td>\n",
       "    </tr>\n",
       "    <tr>\n",
       "      <th>noun_ratio</th>\n",
       "      <td>1.30</td>\n",
       "    </tr>\n",
       "    <tr>\n",
       "      <th>entity_ratio</th>\n",
       "      <td>3.33</td>\n",
       "    </tr>\n",
       "    <tr>\n",
       "      <th>clause_ratio</th>\n",
       "      <td>2.00</td>\n",
       "    </tr>\n",
       "    <tr>\n",
       "      <th>one_char_words_fr</th>\n",
       "      <td>54</td>\n",
       "    </tr>\n",
       "    <tr>\n",
       "      <th>one_char_words_en</th>\n",
       "      <td>49</td>\n",
       "    </tr>\n",
       "    <tr>\n",
       "      <th>exclude_low_similarity</th>\n",
       "      <td>False</td>\n",
       "    </tr>\n",
       "    <tr>\n",
       "      <th>exclude_len_ratio</th>\n",
       "      <td>False</td>\n",
       "    </tr>\n",
       "    <tr>\n",
       "      <th>exclude_verb_ratio</th>\n",
       "      <td>False</td>\n",
       "    </tr>\n",
       "    <tr>\n",
       "      <th>exclude_noun_ratio</th>\n",
       "      <td>False</td>\n",
       "    </tr>\n",
       "    <tr>\n",
       "      <th>exclude_entity_ratio</th>\n",
       "      <td>False</td>\n",
       "    </tr>\n",
       "    <tr>\n",
       "      <th>exclude_clause_ratio</th>\n",
       "      <td>False</td>\n",
       "    </tr>\n",
       "    <tr>\n",
       "      <th>exclude_one_char_words_fr</th>\n",
       "      <td>True</td>\n",
       "    </tr>\n",
       "    <tr>\n",
       "      <th>exclude_one_char_words_en</th>\n",
       "      <td>True</td>\n",
       "    </tr>\n",
       "    <tr>\n",
       "      <th>exclude_figtext</th>\n",
       "      <td>False</td>\n",
       "    </tr>\n",
       "    <tr>\n",
       "      <th>has_date_refs</th>\n",
       "      <td>False</td>\n",
       "    </tr>\n",
       "    <tr>\n",
       "      <th>exclude</th>\n",
       "      <td>True</td>\n",
       "    </tr>\n",
       "  </tbody>\n",
       "</table>\n",
       "</div>"
      ]
     },
     "execution_count": 20,
     "metadata": {},
     "output_type": "execute_result"
    }
   ],
   "execution_count": 20
  },
  {
   "metadata": {},
   "cell_type": "markdown",
   "source": "# OK this looks good. let's do it!",
   "id": "58de8cfd93e66aa3"
  },
  {
   "metadata": {
    "ExecuteTime": {
     "end_time": "2025-08-07T16:41:31.114660Z",
     "start_time": "2025-08-07T16:41:28.362361Z"
    }
   },
   "cell_type": "code",
   "source": [
    "df_clean = df_features[~df_features.exclude].copy()\n",
    "\n",
    "save_jsonl(df_clean, \"training_data.jsonl\")"
   ],
   "id": "c71c8bdb477d8404",
   "outputs": [],
   "execution_count": 21
  },
  {
   "metadata": {
    "ExecuteTime": {
     "end_time": "2025-08-07T16:41:31.513048Z",
     "start_time": "2025-08-07T16:41:31.167282Z"
    }
   },
   "cell_type": "code",
   "source": [
    "import os\n",
    "\n",
    "path = \"training_data.jsonl\"\n",
    "size_kb = os.path.getsize(path) / 1024\n",
    "line_count = sum(1 for _ in open(path, 'r', encoding='utf-8'))\n",
    "\n",
    "print(f\"{size_kb:.2f} KB, {line_count} lines\")"
   ],
   "id": "d37cf390f9451af",
   "outputs": [
    {
     "name": "stdout",
     "output_type": "stream",
     "text": [
      "184517.96 KB, 534828 lines\n"
     ]
    }
   ],
   "execution_count": 22
  },
  {
   "metadata": {},
   "cell_type": "markdown",
   "source": [
    "# also save the cleanish data for checking afterwards\n",
    "* includes 3 stdev before outlier exclusion\n",
    "* includes dates\n",
    "* includes fig and table text"
   ],
   "id": "61a73a9a95cfee11"
  },
  {
   "metadata": {
    "ExecuteTime": {
     "end_time": "2025-08-07T16:50:11.913410Z",
     "start_time": "2025-08-07T16:50:11.845621Z"
    }
   },
   "cell_type": "code",
   "source": [
    "for feature, (low, high) in outlier_criteria_s3.items():\n",
    "    col_name = f\"exclude_relaxed_{feature}\"\n",
    "    df_features[col_name] = False\n",
    "    df_features[col_name] = ~df_features[feature].between(low, high)\n",
    "    \n",
    "exclusion_relaxed_columns = [\n",
    "    'exclude_relaxed_len_ratio',\n",
    "    'exclude_relaxed_verb_ratio',\n",
    "    'exclude_relaxed_noun_ratio',\n",
    "    'exclude_relaxed_entity_ratio',\n",
    "    'exclude_relaxed_clause_ratio',\n",
    "    'exclude_relaxed_one_char_words_fr',\n",
    "    'exclude_relaxed_one_char_words_en',\n",
    "]\n",
    "\n",
    "df_features[\"exclude_relaxed\"] = df_features[exclusion_relaxed_columns].any(axis=1)\n",
    "df_clean_relaxed = df_features[~df_features[\"exclude_relaxed\"] & df_features[\"exclude\"]]\n",
    "df_clean_relaxed.shape[0]"
   ],
   "id": "f679716f9a073eca",
   "outputs": [
    {
     "data": {
      "text/plain": [
       "502864"
      ]
     },
     "execution_count": 40,
     "metadata": {},
     "output_type": "execute_result"
    }
   ],
   "execution_count": 40
  },
  {
   "metadata": {
    "ExecuteTime": {
     "end_time": "2025-08-07T16:50:19.088567Z",
     "start_time": "2025-08-07T16:50:13.814508Z"
    }
   },
   "cell_type": "code",
   "source": "save_jsonl(df_clean_relaxed, \"testing_data.jsonl\")",
   "id": "4039e5c681f681c2",
   "outputs": [],
   "execution_count": 41
  },
  {
   "metadata": {},
   "cell_type": "code",
   "outputs": [],
   "execution_count": null,
   "source": "",
   "id": "cf784d19b71e24bf"
  }
 ],
 "metadata": {
  "kernelspec": {
   "display_name": "Python 3",
   "language": "python",
   "name": "python3"
  },
  "language_info": {
   "codemirror_mode": {
    "name": "ipython",
    "version": 2
   },
   "file_extension": ".py",
   "mimetype": "text/x-python",
   "name": "python",
   "nbconvert_exporter": "python",
   "pygments_lexer": "ipython2",
   "version": "2.7.6"
  }
 },
 "nbformat": 4,
 "nbformat_minor": 5
}
