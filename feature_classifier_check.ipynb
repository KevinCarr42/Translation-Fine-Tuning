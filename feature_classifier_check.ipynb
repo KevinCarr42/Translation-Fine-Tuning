{
 "cells": [
  {
   "metadata": {
    "ExecuteTime": {
     "end_time": "2025-07-21T14:10:36.163479Z",
     "start_time": "2025-07-21T14:10:35.532089Z"
    }
   },
   "cell_type": "code",
   "source": [
    "import re\n",
    "import pandas as pd\n",
    "\n",
    "from create_jsonl import save_jsonl\n",
    "\n",
    "# pandas formatting\n",
    "pd.set_option('display.max_rows', 100)\n",
    "pd.set_option('display.max_columns', 100)\n",
    "pd.set_option('max_colwidth', 100)\n",
    "pd.set_option('display.float_format', '{:.0f}'.format)\n",
    "\n",
    "# the same dataset after cleaning\n",
    "df_features = pd.read_pickle(\"df_with_features.pickle\")"
   ],
   "id": "c002d1ba002a9b01",
   "outputs": [],
   "execution_count": 60
  },
  {
   "metadata": {
    "ExecuteTime": {
     "end_time": "2025-07-21T14:10:36.380996Z",
     "start_time": "2025-07-21T14:10:36.171046Z"
    }
   },
   "cell_type": "code",
   "source": [
    "percentiles = [0.00135, 0.02275, 0.1587, 0.8413, 0.97725, 0.99865]\n",
    "columns = ['50%', '0.1%', '2.3%', '15.9%', '84.1%', '97.7%', '99.9%']\n",
    "df_features.describe(percentiles).loc[columns].T"
   ],
   "id": "93b9e7d92fb350c7",
   "outputs": [
    {
     "data": {
      "text/plain": [
       "              50%  0.1%  2.3%  15.9%  84.1%  97.7%  99.9%\n",
       "similarity      1     1     1      1      1      1      1\n",
       "len_ratio       1     0     1      1      1      2      4\n",
       "verb_ratio      1     0     0      1      2      3      5\n",
       "noun_ratio      1     0     1      1      2      4     12\n",
       "entity_ratio    1     0     0      0      1      2      4\n",
       "clause_ratio    1     0     0      1      2      3      6"
      ],
      "text/html": [
       "<div>\n",
       "<style scoped>\n",
       "    .dataframe tbody tr th:only-of-type {\n",
       "        vertical-align: middle;\n",
       "    }\n",
       "\n",
       "    .dataframe tbody tr th {\n",
       "        vertical-align: top;\n",
       "    }\n",
       "\n",
       "    .dataframe thead th {\n",
       "        text-align: right;\n",
       "    }\n",
       "</style>\n",
       "<table border=\"1\" class=\"dataframe\">\n",
       "  <thead>\n",
       "    <tr style=\"text-align: right;\">\n",
       "      <th></th>\n",
       "      <th>50%</th>\n",
       "      <th>0.1%</th>\n",
       "      <th>2.3%</th>\n",
       "      <th>15.9%</th>\n",
       "      <th>84.1%</th>\n",
       "      <th>97.7%</th>\n",
       "      <th>99.9%</th>\n",
       "    </tr>\n",
       "  </thead>\n",
       "  <tbody>\n",
       "    <tr>\n",
       "      <th>similarity</th>\n",
       "      <td>1</td>\n",
       "      <td>1</td>\n",
       "      <td>1</td>\n",
       "      <td>1</td>\n",
       "      <td>1</td>\n",
       "      <td>1</td>\n",
       "      <td>1</td>\n",
       "    </tr>\n",
       "    <tr>\n",
       "      <th>len_ratio</th>\n",
       "      <td>1</td>\n",
       "      <td>0</td>\n",
       "      <td>1</td>\n",
       "      <td>1</td>\n",
       "      <td>1</td>\n",
       "      <td>2</td>\n",
       "      <td>4</td>\n",
       "    </tr>\n",
       "    <tr>\n",
       "      <th>verb_ratio</th>\n",
       "      <td>1</td>\n",
       "      <td>0</td>\n",
       "      <td>0</td>\n",
       "      <td>1</td>\n",
       "      <td>2</td>\n",
       "      <td>3</td>\n",
       "      <td>5</td>\n",
       "    </tr>\n",
       "    <tr>\n",
       "      <th>noun_ratio</th>\n",
       "      <td>1</td>\n",
       "      <td>0</td>\n",
       "      <td>1</td>\n",
       "      <td>1</td>\n",
       "      <td>2</td>\n",
       "      <td>4</td>\n",
       "      <td>12</td>\n",
       "    </tr>\n",
       "    <tr>\n",
       "      <th>entity_ratio</th>\n",
       "      <td>1</td>\n",
       "      <td>0</td>\n",
       "      <td>0</td>\n",
       "      <td>0</td>\n",
       "      <td>1</td>\n",
       "      <td>2</td>\n",
       "      <td>4</td>\n",
       "    </tr>\n",
       "    <tr>\n",
       "      <th>clause_ratio</th>\n",
       "      <td>1</td>\n",
       "      <td>0</td>\n",
       "      <td>0</td>\n",
       "      <td>1</td>\n",
       "      <td>2</td>\n",
       "      <td>3</td>\n",
       "      <td>6</td>\n",
       "    </tr>\n",
       "  </tbody>\n",
       "</table>\n",
       "</div>"
      ]
     },
     "execution_count": 61,
     "metadata": {},
     "output_type": "execute_result"
    }
   ],
   "execution_count": 61
  },
  {
   "metadata": {
    "ExecuteTime": {
     "end_time": "2025-07-21T14:10:36.392752Z",
     "start_time": "2025-07-21T14:10:36.388559Z"
    }
   },
   "cell_type": "code",
   "source": [
    "# exclude similarity < 0.757 (1 stdev below median)\n",
    "\n",
    "# when similarity < 0.85 (median)\n",
    "outlier_criteria_s1 = {\n",
    "    \"len_ratio\": (0.75, 1.92),  # override with 2 stdev len ratios\n",
    "    \"verb_ratio\": (0.75, 1.50),\n",
    "    \"noun_ratio\": (1.00, 1.75),\n",
    "    \"entity_ratio\": (0.33, 1.00),\n",
    "    \"clause_ratio\": (1.00, 1.50),\n",
    "}\n",
    "\n",
    "# when similarity < 0.92 (1 stdev above median)\n",
    "outlier_criteria_s2 = {\n",
    "    \"len_ratio\": (0.75, 1.92),\n",
    "    \"verb_ratio\": (0.50, 3.00),\n",
    "    \"noun_ratio\": (0.67, 4.00),\n",
    "    \"entity_ratio\": (0.17, 2.00),\n",
    "    \"clause_ratio\": (0.50, 3.00),\n",
    "}\n",
    "\n",
    "# all higher similarities\n",
    "outlier_criteria_s3 = {\n",
    "    \"len_ratio\": (0.34, 3.93),\n",
    "    \"verb_ratio\": (0.25, 5.00),\n",
    "    \"noun_ratio\": (0.38, 12.00),\n",
    "    \"entity_ratio\": (0.10, 4.00),\n",
    "    \"clause_ratio\": (0.20, 6.00),\n",
    "}"
   ],
   "id": "3d0bf3aa61b0c34d",
   "outputs": [],
   "execution_count": 62
  },
  {
   "metadata": {
    "ExecuteTime": {
     "end_time": "2025-07-21T14:10:36.613210Z",
     "start_time": "2025-07-21T14:10:36.438954Z"
    }
   },
   "cell_type": "code",
   "source": [
    "for outlier_criteria in [outlier_criteria_s1, outlier_criteria_s2, outlier_criteria_s3]:\n",
    "    print()\n",
    "    for feature, (x, y) in outlier_criteria.items():\n",
    "        print(f\"{feature:<20}\", end=\"\")\n",
    "        print(f\"number below {x}:\\t{df_features[df_features[feature] < x].shape[0]:<10}\", end=\"\\t\\t\")\n",
    "        print(f\"number above {y}:\\t{df_features[df_features[feature] > y].shape[0]:<10}\")"
   ],
   "id": "6fe3d9475fa712fb",
   "outputs": [
    {
     "name": "stdout",
     "output_type": "stream",
     "text": [
      "\n",
      "len_ratio           number below 0.75:\t17869     \t\tnumber above 1.92:\t17871     \n",
      "verb_ratio          number below 0.75:\t107322    \t\tnumber above 1.5:\t108955    \n",
      "noun_ratio          number below 1.0:\t104712    \t\tnumber above 1.75:\t116633    \n",
      "entity_ratio        number below 0.33:\t79250     \t\tnumber above 1.0:\t84643     \n",
      "clause_ratio        number below 1.0:\t120154    \t\tnumber above 1.5:\t107848    \n",
      "\n",
      "len_ratio           number below 0.75:\t17869     \t\tnumber above 1.92:\t17871     \n",
      "verb_ratio          number below 0.5:\t12007     \t\tnumber above 3.0:\t6404      \n",
      "noun_ratio          number below 0.67:\t17769     \t\tnumber above 4.0:\t14641     \n",
      "entity_ratio        number below 0.17:\t19930     \t\tnumber above 2.0:\t11003     \n",
      "clause_ratio        number below 0.5:\t16753     \t\tnumber above 3.0:\t8048      \n",
      "\n",
      "len_ratio           number below 0.34:\t1024      \t\tnumber above 3.93:\t1047      \n",
      "verb_ratio          number below 0.25:\t599       \t\tnumber above 5.0:\t354       \n",
      "noun_ratio          number below 0.38:\t1071      \t\tnumber above 12.0:\t1011      \n",
      "entity_ratio        number below 0.1:\t1010      \t\tnumber above 4.0:\t811       \n",
      "clause_ratio        number below 0.2:\t877       \t\tnumber above 6.0:\t1019      \n"
     ]
    }
   ],
   "execution_count": 63
  },
  {
   "metadata": {
    "ExecuteTime": {
     "end_time": "2025-07-21T14:10:36.850544Z",
     "start_time": "2025-07-21T14:10:36.625189Z"
    }
   },
   "cell_type": "code",
   "source": [
    "df_features[\"exclude_low_similarity\"] = df_features[\"similarity\"] < 0.757\n",
    "\n",
    "s1_mask = df_features[\"similarity\"] < 0.85\n",
    "s2_mask = (df_features[\"similarity\"] >= 0.85) & (df_features[\"similarity\"] < 0.92)\n",
    "s3_mask = df_features[\"similarity\"] >= 0.92\n",
    "criteria = {\n",
    "    \"s1\": outlier_criteria_s1,\n",
    "    \"s2\": outlier_criteria_s2,\n",
    "    \"s3\": outlier_criteria_s3,\n",
    "}\n",
    "\n",
    "for feature in outlier_criteria_s1:\n",
    "    col_name = f\"exclude_{feature}\"\n",
    "    df_features[col_name] = False\n",
    "\n",
    "    low1, high1 = outlier_criteria_s1[feature]\n",
    "    low2, high2 = outlier_criteria_s2[feature]\n",
    "    low3, high3 = outlier_criteria_s3[feature]\n",
    "\n",
    "    df_features.loc[s1_mask, col_name] = ~df_features.loc[s1_mask, feature].between(low1, high1)\n",
    "    df_features.loc[s2_mask, col_name] = ~df_features.loc[s2_mask, feature].between(low2, high2)\n",
    "    df_features.loc[s3_mask, col_name] = ~df_features.loc[s3_mask, feature].between(low3, high3)\n"
   ],
   "id": "5fabefcbf4ab8680",
   "outputs": [],
   "execution_count": 64
  },
  {
   "metadata": {},
   "cell_type": "markdown",
   "source": "# exclude figure and table text",
   "id": "bd6e91e1dc90db73"
  },
  {
   "metadata": {
    "ExecuteTime": {
     "end_time": "2025-07-21T14:10:36.881062Z",
     "start_time": "2025-07-21T14:10:36.862963Z"
    }
   },
   "cell_type": "code",
   "source": [
    "exclusion_columns = [\n",
    "    'exclude_low_similarity',\n",
    "    'exclude_len_ratio',\n",
    "    'exclude_verb_ratio',\n",
    "    'exclude_noun_ratio',\n",
    "    'exclude_entity_ratio',\n",
    "    'exclude_clause_ratio',\n",
    "]\n",
    "df_features[\"exclude\"] = df_features[exclusion_columns].any(axis=1)"
   ],
   "id": "3912b40203f289c6",
   "outputs": [],
   "execution_count": 65
  },
  {
   "metadata": {
    "ExecuteTime": {
     "end_time": "2025-07-21T14:10:36.973723Z",
     "start_time": "2025-07-21T14:10:36.910186Z"
    }
   },
   "cell_type": "code",
   "source": [
    "# how many are left over after cleaning exclusions, but before removing table/fig text?\n",
    "df_features[~df_features.exclude].shape[0]"
   ],
   "id": "b5816488b80eb6da",
   "outputs": [
    {
     "data": {
      "text/plain": [
       "432042"
      ]
     },
     "execution_count": 66,
     "metadata": {},
     "output_type": "execute_result"
    }
   ],
   "execution_count": 66
  },
  {
   "metadata": {
    "ExecuteTime": {
     "end_time": "2025-07-21T14:10:36.989150Z",
     "start_time": "2025-07-21T14:10:36.978773Z"
    }
   },
   "cell_type": "code",
   "source": [
    "\n",
    "def analyze_text_for_figrefs(text, language='en'):\n",
    "    result = {\n",
    "        'has_trailing_numbers': False,\n",
    "        'has_parenthetical_numbers': False,\n",
    "        'has_figure_references': False,\n",
    "        'has_repeated_punctuation': False,\n",
    "        'exclude_figtext': False\n",
    "    }\n",
    "\n",
    "    # Check for trailing numbers\n",
    "    if re.search(r'\\s+\\d+\\s*$', text):\n",
    "        result['has_trailing_numbers'] = True\n",
    "\n",
    "    # Check for parenthetical numbers\n",
    "    if re.search(r'\\s+\\(\\d+\\)\\s*$', text):\n",
    "        result['has_parenthetical_numbers'] = True\n",
    "\n",
    "    # Check for figure/table references (with French support)\n",
    "    if language == 'fr':\n",
    "        # French patterns: Figure, Tableau, Fig., Tab.\n",
    "        pattern = r'\\s*(?:Figure|Tableau|Fig\\.?|Tab\\.?)\\s+\\d+.*$'\n",
    "    else:\n",
    "        # English patterns: Figure, Table, Fig., Tab.\n",
    "        pattern = r'\\s*(?:Figure|Table|Fig\\.?|Tab\\.?)\\s+\\d+.*$'\n",
    "\n",
    "    if re.search(pattern, text, flags=re.IGNORECASE):\n",
    "        result['has_figure_references'] = True\n",
    "\n",
    "    # Check for repeated punctuation\n",
    "    if re.search(r'[.!?]{2,}$', text):\n",
    "        result['has_repeated_punctuation'] = True\n",
    "\n",
    "    # Set exclude flag if any issue found\n",
    "    result['exclude_figtext'] = any([\n",
    "        result['has_figure_references'],\n",
    "        result['has_trailing_numbers'],\n",
    "        result['has_parenthetical_numbers'],\n",
    "        result['has_repeated_punctuation']\n",
    "    ])\n",
    "\n",
    "    return result\n",
    "\n",
    "def process_bilingual_dataframe(df, text_en_column='text_en', text_fr_column='text_fr'):\n",
    "    en_results = df[text_en_column].apply(lambda x: analyze_text_for_figrefs(x, language='en'))\n",
    "    fr_results = df[text_fr_column].apply(lambda x: analyze_text_for_figrefs(x, language='fr'))\n",
    "\n",
    "    df['has_trailing_numbers_en'] = en_results.apply(lambda x: x['has_trailing_numbers'])\n",
    "    df['has_parenthetical_numbers_en'] = en_results.apply(lambda x: x['has_parenthetical_numbers'])\n",
    "    df['has_figure_references_en'] = en_results.apply(lambda x: x['has_figure_references'])\n",
    "    df['has_repeated_punctuation_en'] = en_results.apply(lambda x: x['has_repeated_punctuation'])\n",
    "    df['exclude_figtext_en'] = en_results.apply(lambda x: x['exclude_figtext'])\n",
    "\n",
    "    df['has_trailing_numbers_fr'] = fr_results.apply(lambda x: x['has_trailing_numbers'])\n",
    "    df['has_parenthetical_numbers_fr'] = fr_results.apply(lambda x: x['has_parenthetical_numbers'])\n",
    "    df['has_figure_references_fr'] = fr_results.apply(lambda x: x['has_figure_references'])\n",
    "    df['has_repeated_punctuation_fr'] = fr_results.apply(lambda x: x['has_repeated_punctuation'])\n",
    "    df['exclude_figtext_fr'] = fr_results.apply(lambda x: x['exclude_figtext'])\n",
    "\n",
    "    df['exclude_figtext'] = df['exclude_figtext_en'] | df['exclude_figtext_fr']\n",
    "\n",
    "    return df\n",
    "\n",
    "def process_bilingual_dataframe_simple(df, text_en_column='en', text_fr_column='fr'):\n",
    "    # Analyze both columns\n",
    "    en_results = df[text_en_column].apply(lambda x: analyze_text_for_figrefs(x, language='en'))\n",
    "    fr_results = df[text_fr_column].apply(lambda x: analyze_text_for_figrefs(x, language='fr'))\n",
    "\n",
    "    # Add only the combined flag\n",
    "    df['exclude_figtext'] = (\n",
    "        en_results.apply(lambda x: x['exclude_figtext']) |\n",
    "        fr_results.apply(lambda x: x['exclude_figtext'])\n",
    "    )\n",
    "\n",
    "    return df"
   ],
   "id": "1abea2bdedc9b19e",
   "outputs": [],
   "execution_count": 67
  },
  {
   "metadata": {
    "ExecuteTime": {
     "end_time": "2025-07-21T14:11:08.009241Z",
     "start_time": "2025-07-21T14:10:37.034021Z"
    }
   },
   "cell_type": "code",
   "source": "df_features = process_bilingual_dataframe_simple(df_features)",
   "id": "3be5558fc696118e",
   "outputs": [],
   "execution_count": 68
  },
  {
   "metadata": {
    "ExecuteTime": {
     "end_time": "2025-07-21T14:11:08.074848Z",
     "start_time": "2025-07-21T14:11:08.015318Z"
    }
   },
   "cell_type": "code",
   "source": [
    "df_features.loc[\n",
    "    df_features['exclude_figtext'],\n",
    "    ['en', 'fr', 'exclude']\n",
    "].sample(10)"
   ],
   "id": "2ac1348ee6c9673d",
   "outputs": [
    {
     "data": {
      "text/plain": [
       "                                                                                                                                                                                                             en  \\\n",
       "400510                                                                                                                              The size structure shows some modes located between 35 and 51 mm (Figure 6)   \n",
       "169747                                                                                                         With a catch of 6,763 t, the probability of an increase in biomass in 2003 would be less than 10   \n",
       "664708                                                                                                                                                                     Arrows indicate the 2013 cycle years   \n",
       "250220                                       For example, start of season CPUE of about 7 kg trap in 2017 was similar to end of season CPUE in 2015 and below the end of season CPUE of about 9 kg trap in 2014   \n",
       "777554                                                                                                 Recruitment declined to low levels in the 1970s and 1980s and to very low levels in the 1990s (Figure 7)   \n",
       "166711  For example, the dominant 1988 year class was observed in 1990 in the size distributions for the line fishing catch, but not until 1991 and 1992 in the size distributions for the gillnet catch (Fi...   \n",
       "398860                                                                                     Sites south of Lake Melville generally clustered separately from sites from Lake Melville and those northward at K 2   \n",
       "718548                                                                                                                                                A steady biomass increase was then observed up until 2020   \n",
       "203086                                                                                                      Whelk landings, total allowable catch (TAC) and fishing effort from 1995 to 2011 in Fishing Area 13   \n",
       "583735                                                                                  A total of 34 rivers were included in the project in which 85 sites were surveyed between August 11 and October 2, 2014   \n",
       "\n",
       "                                                                                                                                                                                                     fr  \\\n",
       "400510                                                                                                                La structure de taille affiche quelques modes situés entre 35 et 51 mm (Figure 6)   \n",
       "169747                                                                          Pour des captures de 6 763 t, les probabilités qu il y ait un accroissement de biomasse en 2003 seraient de moins de 10   \n",
       "664708                                                                                                                                                   Les flèches indiquent les années du cycle 2013   \n",
       "250220  Par exemple, la CPUE en début de saison, à environ 7 kg casier en 2017, était similaire à celle en fin de saison en 2015 et inférieure à la CPUE en fin de saison d environ 9 kg casier en 2014   \n",
       "777554                                                           Le recrutement a diminué pour atteindre des taux bas dans les années 1970 et 1980 et des taux très bas dans les années 1990 (figure 7)   \n",
       "166711                                C est le cas en 1990 pour la classe d âge dominante de 1988 qui n a été observée dans les fréquences de taille des filets maillants qu en 1991 et 1992 (Figure 8)   \n",
       "398860                                                                 Les sites au sud du lac Melville étaient généralement regroupés séparément des sites du lac Melville et de ceux au nord pour K 2   \n",
       "718548                                                                                                                    On a ensuite constaté une augmentation constante de la biomasse jusqu en 2020   \n",
       "203086                                                                         Débarquements de buccins, total admissible des captures (TAC) et effort de pêche de 1995 à 2011 pour la zone de pêche 13   \n",
       "583735                                            Au total, 34 rivières ont été incluses dans le projet, dans le cadre duquel 85 emplacements ont fait l objet d un relevé du 11 août au 2 octobre 2014   \n",
       "\n",
       "        exclude  \n",
       "400510    False  \n",
       "169747    False  \n",
       "664708    False  \n",
       "250220    False  \n",
       "777554    False  \n",
       "166711     True  \n",
       "398860    False  \n",
       "718548    False  \n",
       "203086    False  \n",
       "583735    False  "
      ],
      "text/html": [
       "<div>\n",
       "<style scoped>\n",
       "    .dataframe tbody tr th:only-of-type {\n",
       "        vertical-align: middle;\n",
       "    }\n",
       "\n",
       "    .dataframe tbody tr th {\n",
       "        vertical-align: top;\n",
       "    }\n",
       "\n",
       "    .dataframe thead th {\n",
       "        text-align: right;\n",
       "    }\n",
       "</style>\n",
       "<table border=\"1\" class=\"dataframe\">\n",
       "  <thead>\n",
       "    <tr style=\"text-align: right;\">\n",
       "      <th></th>\n",
       "      <th>en</th>\n",
       "      <th>fr</th>\n",
       "      <th>exclude</th>\n",
       "    </tr>\n",
       "  </thead>\n",
       "  <tbody>\n",
       "    <tr>\n",
       "      <th>400510</th>\n",
       "      <td>The size structure shows some modes located between 35 and 51 mm (Figure 6)</td>\n",
       "      <td>La structure de taille affiche quelques modes situés entre 35 et 51 mm (Figure 6)</td>\n",
       "      <td>False</td>\n",
       "    </tr>\n",
       "    <tr>\n",
       "      <th>169747</th>\n",
       "      <td>With a catch of 6,763 t, the probability of an increase in biomass in 2003 would be less than 10</td>\n",
       "      <td>Pour des captures de 6 763 t, les probabilités qu il y ait un accroissement de biomasse en 2003 seraient de moins de 10</td>\n",
       "      <td>False</td>\n",
       "    </tr>\n",
       "    <tr>\n",
       "      <th>664708</th>\n",
       "      <td>Arrows indicate the 2013 cycle years</td>\n",
       "      <td>Les flèches indiquent les années du cycle 2013</td>\n",
       "      <td>False</td>\n",
       "    </tr>\n",
       "    <tr>\n",
       "      <th>250220</th>\n",
       "      <td>For example, start of season CPUE of about 7 kg trap in 2017 was similar to end of season CPUE in 2015 and below the end of season CPUE of about 9 kg trap in 2014</td>\n",
       "      <td>Par exemple, la CPUE en début de saison, à environ 7 kg casier en 2017, était similaire à celle en fin de saison en 2015 et inférieure à la CPUE en fin de saison d environ 9 kg casier en 2014</td>\n",
       "      <td>False</td>\n",
       "    </tr>\n",
       "    <tr>\n",
       "      <th>777554</th>\n",
       "      <td>Recruitment declined to low levels in the 1970s and 1980s and to very low levels in the 1990s (Figure 7)</td>\n",
       "      <td>Le recrutement a diminué pour atteindre des taux bas dans les années 1970 et 1980 et des taux très bas dans les années 1990 (figure 7)</td>\n",
       "      <td>False</td>\n",
       "    </tr>\n",
       "    <tr>\n",
       "      <th>166711</th>\n",
       "      <td>For example, the dominant 1988 year class was observed in 1990 in the size distributions for the line fishing catch, but not until 1991 and 1992 in the size distributions for the gillnet catch (Fi...</td>\n",
       "      <td>C est le cas en 1990 pour la classe d âge dominante de 1988 qui n a été observée dans les fréquences de taille des filets maillants qu en 1991 et 1992 (Figure 8)</td>\n",
       "      <td>True</td>\n",
       "    </tr>\n",
       "    <tr>\n",
       "      <th>398860</th>\n",
       "      <td>Sites south of Lake Melville generally clustered separately from sites from Lake Melville and those northward at K 2</td>\n",
       "      <td>Les sites au sud du lac Melville étaient généralement regroupés séparément des sites du lac Melville et de ceux au nord pour K 2</td>\n",
       "      <td>False</td>\n",
       "    </tr>\n",
       "    <tr>\n",
       "      <th>718548</th>\n",
       "      <td>A steady biomass increase was then observed up until 2020</td>\n",
       "      <td>On a ensuite constaté une augmentation constante de la biomasse jusqu en 2020</td>\n",
       "      <td>False</td>\n",
       "    </tr>\n",
       "    <tr>\n",
       "      <th>203086</th>\n",
       "      <td>Whelk landings, total allowable catch (TAC) and fishing effort from 1995 to 2011 in Fishing Area 13</td>\n",
       "      <td>Débarquements de buccins, total admissible des captures (TAC) et effort de pêche de 1995 à 2011 pour la zone de pêche 13</td>\n",
       "      <td>False</td>\n",
       "    </tr>\n",
       "    <tr>\n",
       "      <th>583735</th>\n",
       "      <td>A total of 34 rivers were included in the project in which 85 sites were surveyed between August 11 and October 2, 2014</td>\n",
       "      <td>Au total, 34 rivières ont été incluses dans le projet, dans le cadre duquel 85 emplacements ont fait l objet d un relevé du 11 août au 2 octobre 2014</td>\n",
       "      <td>False</td>\n",
       "    </tr>\n",
       "  </tbody>\n",
       "</table>\n",
       "</div>"
      ]
     },
     "execution_count": 69,
     "metadata": {},
     "output_type": "execute_result"
    }
   ],
   "execution_count": 69
  },
  {
   "metadata": {
    "ExecuteTime": {
     "end_time": "2025-07-21T14:11:08.113943Z",
     "start_time": "2025-07-21T14:11:08.087643Z"
    }
   },
   "cell_type": "code",
   "source": [
    "# total figtext percentage\n",
    "df_features[df_features.exclude_figtext].shape[0] / df_features.shape[0]"
   ],
   "id": "2cba06f4ba8f94b4",
   "outputs": [
    {
     "data": {
      "text/plain": [
       "0.181739287837104"
      ]
     },
     "execution_count": 70,
     "metadata": {},
     "output_type": "execute_result"
    }
   ],
   "execution_count": 70
  },
  {
   "metadata": {
    "ExecuteTime": {
     "end_time": "2025-07-21T14:11:08.218429Z",
     "start_time": "2025-07-21T14:11:08.139595Z"
    }
   },
   "cell_type": "code",
   "source": [
    "# percentage of previously non-excluded rows with figtext\n",
    "df_features[(df_features.exclude_figtext) & (~df_features.exclude)].shape[0] / df_features[~df_features.exclude].shape[0]"
   ],
   "id": "122ebd36e997766a",
   "outputs": [
    {
     "data": {
      "text/plain": [
       "0.16495618481536517"
      ]
     },
     "execution_count": 71,
     "metadata": {},
     "output_type": "execute_result"
    }
   ],
   "execution_count": 71
  },
  {
   "metadata": {
    "ExecuteTime": {
     "end_time": "2025-07-21T14:11:08.243236Z",
     "start_time": "2025-07-21T14:11:08.222479Z"
    }
   },
   "cell_type": "code",
   "source": [
    "exclusion_columns = [\n",
    "    'exclude_low_similarity',\n",
    "    'exclude_len_ratio',\n",
    "    'exclude_verb_ratio',\n",
    "    'exclude_noun_ratio',\n",
    "    'exclude_entity_ratio',\n",
    "    'exclude_clause_ratio',\n",
    "    'exclude_figtext'\n",
    "]\n",
    "df_features[\"exclude\"] = df_features[exclusion_columns].any(axis=1)\n"
   ],
   "id": "12a6942c542c6007",
   "outputs": [],
   "execution_count": 72
  },
  {
   "metadata": {
    "ExecuteTime": {
     "end_time": "2025-07-21T14:11:08.329090Z",
     "start_time": "2025-07-21T14:11:08.270816Z"
    }
   },
   "cell_type": "code",
   "source": [
    "# how many are left over after removing table/fig text?\n",
    "df_features[~df_features.exclude].shape[0]"
   ],
   "id": "26fee82ad2052ae9",
   "outputs": [
    {
     "data": {
      "text/plain": [
       "360774"
      ]
     },
     "execution_count": 73,
     "metadata": {},
     "output_type": "execute_result"
    }
   ],
   "execution_count": 73
  },
  {
   "metadata": {},
   "cell_type": "markdown",
   "source": [
    "# how many sentences have years or months in them?\n",
    "### exclude these as well?"
   ],
   "id": "f933d2b4de91211a"
  },
  {
   "metadata": {
    "ExecuteTime": {
     "end_time": "2025-07-21T14:14:19.765289Z",
     "start_time": "2025-07-21T14:11:08.334637Z"
    }
   },
   "cell_type": "code",
   "source": "df_features['has_date_refs'] = df_features[['en', 'fr']].apply(lambda x: x.astype(str).str.contains(r'\\b(?:19|20)\\d{2}\\b|(?:January|February|March|April|May|June|July|August|September|October|November|December|janvier|février|mars|avril|mai|juin|juillet|août|septembre|octobre|novembre|décembre|Jan|Feb|Mar|Apr|Jun|Jul|Aug|Sep|Oct|Nov|Dec)\\b', case=False, regex=True).any(), axis=1)",
   "id": "cfb43aec12df6b44",
   "outputs": [],
   "execution_count": 74
  },
  {
   "metadata": {
    "ExecuteTime": {
     "end_time": "2025-07-21T14:14:19.848554Z",
     "start_time": "2025-07-21T14:14:19.772894Z"
    }
   },
   "cell_type": "code",
   "source": [
    "df_features[\n",
    "    (df_features['has_date_refs']) & (~df_features.exclude)\n",
    "].shape[0] / df_features[~df_features.exclude].shape[0]"
   ],
   "id": "eada8af6499a9eec",
   "outputs": [
    {
     "data": {
      "text/plain": [
       "0.24853509399236087"
      ]
     },
     "execution_count": 75,
     "metadata": {},
     "output_type": "execute_result"
    }
   ],
   "execution_count": 75
  },
  {
   "metadata": {
    "ExecuteTime": {
     "end_time": "2025-07-21T14:14:19.895229Z",
     "start_time": "2025-07-21T14:14:19.853427Z"
    }
   },
   "cell_type": "code",
   "source": "df_features[df_features['has_date_refs']].shape[0]",
   "id": "c5d4701969b80748",
   "outputs": [
    {
     "data": {
      "text/plain": [
       "262138"
      ]
     },
     "execution_count": 76,
     "metadata": {},
     "output_type": "execute_result"
    }
   ],
   "execution_count": 76
  },
  {
   "metadata": {
    "ExecuteTime": {
     "end_time": "2025-07-21T14:14:19.935938Z",
     "start_time": "2025-07-21T14:14:19.912667Z"
    }
   },
   "cell_type": "code",
   "source": [
    "exclusion_columns = [\n",
    "    'exclude_low_similarity',\n",
    "    'exclude_len_ratio',\n",
    "    'exclude_verb_ratio',\n",
    "    'exclude_noun_ratio',\n",
    "    'exclude_entity_ratio',\n",
    "    'exclude_clause_ratio',\n",
    "    'exclude_figtext',\n",
    "    'has_date_refs',\n",
    "]\n",
    "df_features[\"exclude\"] = df_features[exclusion_columns].any(axis=1)"
   ],
   "id": "67d24b8036229431",
   "outputs": [],
   "execution_count": 77
  },
  {
   "metadata": {
    "ExecuteTime": {
     "end_time": "2025-07-21T14:14:20.013594Z",
     "start_time": "2025-07-21T14:14:19.966630Z"
    }
   },
   "cell_type": "code",
   "source": [
    "# how many are left over after removing dates and table/fig text?\n",
    "df_features[~df_features.exclude].shape[0]"
   ],
   "id": "bc0d80e845458574",
   "outputs": [
    {
     "data": {
      "text/plain": [
       "271109"
      ]
     },
     "execution_count": 78,
     "metadata": {},
     "output_type": "execute_result"
    }
   ],
   "execution_count": 78
  },
  {
   "metadata": {},
   "cell_type": "markdown",
   "source": "# exclude all (270k is plenty of training data)",
   "id": "dac53290075c401"
  },
  {
   "metadata": {
    "ExecuteTime": {
     "end_time": "2025-07-21T14:15:40.679196Z",
     "start_time": "2025-07-21T14:15:40.652579Z"
    }
   },
   "cell_type": "code",
   "source": [
    "exclusion_columns = [\n",
    "    'exclude_low_similarity',\n",
    "    'exclude_len_ratio',\n",
    "    'exclude_verb_ratio',\n",
    "    'exclude_noun_ratio',\n",
    "    'exclude_entity_ratio',\n",
    "    'exclude_clause_ratio',\n",
    "    'exclude_figtext',\n",
    "    'has_date_refs',\n",
    "]\n",
    "df_features[\"exclude\"] = df_features[exclusion_columns].any(axis=1)"
   ],
   "id": "588bfa0c9240c93a",
   "outputs": [],
   "execution_count": 79
  },
  {
   "metadata": {
    "ExecuteTime": {
     "end_time": "2025-07-21T14:15:41.874346Z",
     "start_time": "2025-07-21T14:15:41.842648Z"
    }
   },
   "cell_type": "code",
   "source": [
    "# how many exclusions does this lead to?\n",
    "\n",
    "df_features[exclusion_columns + ['exclude']].sum()"
   ],
   "id": "492184ae0ab1344e",
   "outputs": [
    {
     "data": {
      "text/plain": [
       "exclude_low_similarity    121566\n",
       "exclude_len_ratio          35269\n",
       "exclude_verb_ratio        125555\n",
       "exclude_noun_ratio        141034\n",
       "exclude_entity_ratio       99526\n",
       "exclude_clause_ratio      131022\n",
       "exclude_figtext           141566\n",
       "has_date_refs             262138\n",
       "exclude                   507842\n",
       "dtype: int64"
      ]
     },
     "execution_count": 80,
     "metadata": {},
     "output_type": "execute_result"
    }
   ],
   "execution_count": 80
  },
  {
   "metadata": {
    "ExecuteTime": {
     "end_time": "2025-07-21T14:15:44.650912Z",
     "start_time": "2025-07-21T14:15:44.533461Z"
    }
   },
   "cell_type": "code",
   "source": [
    "# how many translations are left after this cleaning? (half a million)\n",
    "\n",
    "df_features[~df_features[\"exclude\"]].shape[0], df_features[~df_features[\"exclude\"]].shape[0] / df_features.shape[0]"
   ],
   "id": "29a1e3a7c1056560",
   "outputs": [
    {
     "data": {
      "text/plain": [
       "(271109, 0.34804371520159805)"
      ]
     },
     "execution_count": 81,
     "metadata": {},
     "output_type": "execute_result"
    }
   ],
   "execution_count": 81
  },
  {
   "metadata": {},
   "cell_type": "markdown",
   "source": "# make sure bad ones are caught",
   "id": "496cc62883db657c"
  },
  {
   "metadata": {
    "ExecuteTime": {
     "end_time": "2025-07-21T14:17:14.248359Z",
     "start_time": "2025-07-21T14:17:14.223463Z"
    }
   },
   "cell_type": "code",
   "source": [
    "# check a few at random\n",
    "\n",
    "df_features.sample().T"
   ],
   "id": "98cc8a446a2a2690",
   "outputs": [
    {
     "data": {
      "text/plain": [
       "                                                                                                                     175866\n",
       "pub_number                                                                                                     RES 2004/054\n",
       "fr                      Les taux d exploitation moyens étaient élevés ( 50 ) pendant les trois années en cause (tableau ...\n",
       "en                      The average exploitation rates were high ( 50 ) in all three years (Table 5) and these rates are...\n",
       "similarity                                                                                                                1\n",
       "len_ratio                                                                                                                 1\n",
       "verb_ratio                                                                                                                1\n",
       "noun_ratio                                                                                                                1\n",
       "entity_ratio                                                                                                              0\n",
       "clause_ratio                                                                                                              1\n",
       "exclude_low_similarity                                                                                                False\n",
       "exclude_len_ratio                                                                                                     False\n",
       "exclude_verb_ratio                                                                                                    False\n",
       "exclude_noun_ratio                                                                                                    False\n",
       "exclude_entity_ratio                                                                                                  False\n",
       "exclude_clause_ratio                                                                                                  False\n",
       "exclude                                                                                                                True\n",
       "exclude_figtext                                                                                                        True\n",
       "has_date_refs                                                                                                         False"
      ],
      "text/html": [
       "<div>\n",
       "<style scoped>\n",
       "    .dataframe tbody tr th:only-of-type {\n",
       "        vertical-align: middle;\n",
       "    }\n",
       "\n",
       "    .dataframe tbody tr th {\n",
       "        vertical-align: top;\n",
       "    }\n",
       "\n",
       "    .dataframe thead th {\n",
       "        text-align: right;\n",
       "    }\n",
       "</style>\n",
       "<table border=\"1\" class=\"dataframe\">\n",
       "  <thead>\n",
       "    <tr style=\"text-align: right;\">\n",
       "      <th></th>\n",
       "      <th>175866</th>\n",
       "    </tr>\n",
       "  </thead>\n",
       "  <tbody>\n",
       "    <tr>\n",
       "      <th>pub_number</th>\n",
       "      <td>RES 2004/054</td>\n",
       "    </tr>\n",
       "    <tr>\n",
       "      <th>fr</th>\n",
       "      <td>Les taux d exploitation moyens étaient élevés ( 50 ) pendant les trois années en cause (tableau ...</td>\n",
       "    </tr>\n",
       "    <tr>\n",
       "      <th>en</th>\n",
       "      <td>The average exploitation rates were high ( 50 ) in all three years (Table 5) and these rates are...</td>\n",
       "    </tr>\n",
       "    <tr>\n",
       "      <th>similarity</th>\n",
       "      <td>1</td>\n",
       "    </tr>\n",
       "    <tr>\n",
       "      <th>len_ratio</th>\n",
       "      <td>1</td>\n",
       "    </tr>\n",
       "    <tr>\n",
       "      <th>verb_ratio</th>\n",
       "      <td>1</td>\n",
       "    </tr>\n",
       "    <tr>\n",
       "      <th>noun_ratio</th>\n",
       "      <td>1</td>\n",
       "    </tr>\n",
       "    <tr>\n",
       "      <th>entity_ratio</th>\n",
       "      <td>0</td>\n",
       "    </tr>\n",
       "    <tr>\n",
       "      <th>clause_ratio</th>\n",
       "      <td>1</td>\n",
       "    </tr>\n",
       "    <tr>\n",
       "      <th>exclude_low_similarity</th>\n",
       "      <td>False</td>\n",
       "    </tr>\n",
       "    <tr>\n",
       "      <th>exclude_len_ratio</th>\n",
       "      <td>False</td>\n",
       "    </tr>\n",
       "    <tr>\n",
       "      <th>exclude_verb_ratio</th>\n",
       "      <td>False</td>\n",
       "    </tr>\n",
       "    <tr>\n",
       "      <th>exclude_noun_ratio</th>\n",
       "      <td>False</td>\n",
       "    </tr>\n",
       "    <tr>\n",
       "      <th>exclude_entity_ratio</th>\n",
       "      <td>False</td>\n",
       "    </tr>\n",
       "    <tr>\n",
       "      <th>exclude_clause_ratio</th>\n",
       "      <td>False</td>\n",
       "    </tr>\n",
       "    <tr>\n",
       "      <th>exclude</th>\n",
       "      <td>True</td>\n",
       "    </tr>\n",
       "    <tr>\n",
       "      <th>exclude_figtext</th>\n",
       "      <td>True</td>\n",
       "    </tr>\n",
       "    <tr>\n",
       "      <th>has_date_refs</th>\n",
       "      <td>False</td>\n",
       "    </tr>\n",
       "  </tbody>\n",
       "</table>\n",
       "</div>"
      ]
     },
     "execution_count": 88,
     "metadata": {},
     "output_type": "execute_result"
    }
   ],
   "execution_count": 88
  },
  {
   "metadata": {
    "ExecuteTime": {
     "end_time": "2025-07-21T14:17:14.392092Z",
     "start_time": "2025-07-21T14:17:14.273585Z"
    }
   },
   "cell_type": "code",
   "source": [
    "# this one looks good but will be excluded based on verb ratio and entity ratio \n",
    "#  maybe false negatives are OK if quality improves\n",
    "\n",
    "df_features.loc[485273]"
   ],
   "id": "a63a68c6c0f4051b",
   "outputs": [
    {
     "data": {
      "text/plain": [
       "pub_number                                                                                                       SAR 2009/027\n",
       "fr                        Selon les résultats des deux relevés post-saison, l indice d abondance des crabes commerciaux re...\n",
       "en                        Based on the results from the two postseason surveys, the abundance index of commercial crabs re...\n",
       "similarity                                                                                                                  1\n",
       "len_ratio                                                                                                                   1\n",
       "verb_ratio                                                                                                                  1\n",
       "noun_ratio                                                                                                                  1\n",
       "entity_ratio                                                                                                                0\n",
       "clause_ratio                                                                                                                1\n",
       "exclude_low_similarity                                                                                                  False\n",
       "exclude_len_ratio                                                                                                       False\n",
       "exclude_verb_ratio                                                                                                       True\n",
       "exclude_noun_ratio                                                                                                      False\n",
       "exclude_entity_ratio                                                                                                     True\n",
       "exclude_clause_ratio                                                                                                    False\n",
       "exclude                                                                                                                  True\n",
       "exclude_figtext                                                                                                         False\n",
       "has_date_refs                                                                                                            True\n",
       "Name: 485273, dtype: object"
      ]
     },
     "execution_count": 89,
     "metadata": {},
     "output_type": "execute_result"
    }
   ],
   "execution_count": 89
  },
  {
   "metadata": {
    "ExecuteTime": {
     "end_time": "2025-07-21T14:17:14.445556Z",
     "start_time": "2025-07-21T14:17:14.396613Z"
    }
   },
   "cell_type": "code",
   "source": [
    "# this one is almost caught by len_ratio and entity_ratio, but not quite unless lower limits are tweaked\n",
    "\n",
    "df_features.loc[498816]"
   ],
   "id": "2fcb3590b0e9ddcc",
   "outputs": [
    {
     "data": {
      "text/plain": [
       "pub_number                                                                                                       SAR 2010/020\n",
       "fr                        Sources d incertitude Il existe de l incertitude quant aux effets que des changements apportés à...\n",
       "en                        Newfoundland and Labrador Region 2HJ3KLNOPs4R Snow Crab 40 Sources of Uncertainty There is uncer...\n",
       "similarity                                                                                                                  1\n",
       "len_ratio                                                                                                                   1\n",
       "verb_ratio                                                                                                                  1\n",
       "noun_ratio                                                                                                                  1\n",
       "entity_ratio                                                                                                                0\n",
       "clause_ratio                                                                                                                1\n",
       "exclude_low_similarity                                                                                                  False\n",
       "exclude_len_ratio                                                                                                       False\n",
       "exclude_verb_ratio                                                                                                      False\n",
       "exclude_noun_ratio                                                                                                      False\n",
       "exclude_entity_ratio                                                                                                     True\n",
       "exclude_clause_ratio                                                                                                    False\n",
       "exclude                                                                                                                  True\n",
       "exclude_figtext                                                                                                         False\n",
       "has_date_refs                                                                                                           False\n",
       "Name: 498816, dtype: object"
      ]
     },
     "execution_count": 90,
     "metadata": {},
     "output_type": "execute_result"
    }
   ],
   "execution_count": 90
  },
  {
   "metadata": {
    "ExecuteTime": {
     "end_time": "2025-07-21T14:17:14.476288Z",
     "start_time": "2025-07-21T14:17:14.450023Z"
    }
   },
   "cell_type": "code",
   "source": [
    "# this one is good, but is excluded by entity_ratio if 0.33 is used as a lower limit\n",
    "\n",
    "df_features.loc[366969]"
   ],
   "id": "509dff41531f85f3",
   "outputs": [
    {
     "data": {
      "text/plain": [
       "pub_number                                                                                                       RES 2022/027\n",
       "fr                        De 2018 à 2021, plus de 80 de la biomasse cumulée était retrouvée entre 164 et 302 m à des tempé...\n",
       "en                        From 2018 to 2021, more than 80 of the cumulative biomass was found between 164 and 302 m at bot...\n",
       "similarity                                                                                                                  1\n",
       "len_ratio                                                                                                                   1\n",
       "verb_ratio                                                                                                                  1\n",
       "noun_ratio                                                                                                                  1\n",
       "entity_ratio                                                                                                                0\n",
       "clause_ratio                                                                                                                2\n",
       "exclude_low_similarity                                                                                                  False\n",
       "exclude_len_ratio                                                                                                       False\n",
       "exclude_verb_ratio                                                                                                      False\n",
       "exclude_noun_ratio                                                                                                      False\n",
       "exclude_entity_ratio                                                                                                    False\n",
       "exclude_clause_ratio                                                                                                    False\n",
       "exclude                                                                                                                  True\n",
       "exclude_figtext                                                                                                          True\n",
       "has_date_refs                                                                                                            True\n",
       "Name: 366969, dtype: object"
      ]
     },
     "execution_count": 91,
     "metadata": {},
     "output_type": "execute_result"
    }
   ],
   "execution_count": 91
  },
  {
   "metadata": {
    "ExecuteTime": {
     "end_time": "2025-07-21T14:17:14.506004Z",
     "start_time": "2025-07-21T14:17:14.501544Z"
    }
   },
   "cell_type": "code",
   "source": [
    "# this one is junk data, it is caught by multiple exclusion criteria\n",
    "\n",
    "df_features.loc[574405]"
   ],
   "id": "9913e2145dcd3c04",
   "outputs": [
    {
     "data": {
      "text/plain": [
       "pub_number                                                                                                       SAR 2017/033\n",
       "fr                        Saison Permis TAC (t) Débarquements (t) CPUE (kg casier levé) Effort (x 1 000 casiers levés) 200...\n",
       "en                        Season Licenses TAC (t) Landings (t) CPUE (kg trap haul) Effort (x1000 trap hauls) 2005 06 9 337...\n",
       "similarity                                                                                                                  1\n",
       "len_ratio                                                                                                                   1\n",
       "verb_ratio                                                                                                                  3\n",
       "noun_ratio                                                                                                                  5\n",
       "entity_ratio                                                                                                                0\n",
       "clause_ratio                                                                                                                8\n",
       "exclude_low_similarity                                                                                                  False\n",
       "exclude_len_ratio                                                                                                       False\n",
       "exclude_verb_ratio                                                                                                       True\n",
       "exclude_noun_ratio                                                                                                       True\n",
       "exclude_entity_ratio                                                                                                     True\n",
       "exclude_clause_ratio                                                                                                     True\n",
       "exclude                                                                                                                  True\n",
       "exclude_figtext                                                                                                          True\n",
       "has_date_refs                                                                                                            True\n",
       "Name: 574405, dtype: object"
      ]
     },
     "execution_count": 92,
     "metadata": {},
     "output_type": "execute_result"
    }
   ],
   "execution_count": 92
  },
  {
   "metadata": {},
   "cell_type": "markdown",
   "source": "# OK this looks good. let's do it!",
   "id": "58de8cfd93e66aa3"
  },
  {
   "metadata": {
    "ExecuteTime": {
     "end_time": "2025-07-21T14:17:19.119071Z",
     "start_time": "2025-07-21T14:17:14.548914Z"
    }
   },
   "cell_type": "code",
   "source": [
    "df_clean = df_features[~df_features.exclude].copy()\n",
    "\n",
    "save_jsonl(df_clean, \"training_data.jsonl\")"
   ],
   "id": "c71c8bdb477d8404",
   "outputs": [],
   "execution_count": 93
  },
  {
   "metadata": {
    "ExecuteTime": {
     "end_time": "2025-07-21T14:17:19.418240Z",
     "start_time": "2025-07-21T14:17:19.124425Z"
    }
   },
   "cell_type": "code",
   "source": [
    "import os\n",
    "\n",
    "path = \"training_data.jsonl\"\n",
    "size_kb = os.path.getsize(path) / 1024\n",
    "line_count = sum(1 for _ in open(path, 'r', encoding='utf-8'))\n",
    "\n",
    "print(f\"{size_kb:.2f} KB, {line_count} lines\")"
   ],
   "id": "d37cf390f9451af",
   "outputs": [
    {
     "name": "stdout",
     "output_type": "stream",
     "text": [
      "187191.67 KB, 542218 lines\n"
     ]
    }
   ],
   "execution_count": 94
  }
 ],
 "metadata": {
  "kernelspec": {
   "display_name": "Python 3",
   "language": "python",
   "name": "python3"
  },
  "language_info": {
   "codemirror_mode": {
    "name": "ipython",
    "version": 2
   },
   "file_extension": ".py",
   "mimetype": "text/x-python",
   "name": "python",
   "nbconvert_exporter": "python",
   "pygments_lexer": "ipython2",
   "version": "2.7.6"
  }
 },
 "nbformat": 4,
 "nbformat_minor": 5
}
