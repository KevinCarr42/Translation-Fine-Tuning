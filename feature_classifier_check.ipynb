{
 "cells": [
  {
   "cell_type": "code",
   "id": "initial_id",
   "metadata": {
    "collapsed": true,
    "ExecuteTime": {
     "end_time": "2025-07-04T16:52:54.256478Z",
     "start_time": "2025-07-04T16:52:53.369440Z"
    }
   },
   "source": [
    "import pandas as pd\n",
    "\n",
    "from create_jsonl import save_jsonl\n",
    "\n",
    "# the same dataset after cleaning\n",
    "df_features = pd.read_pickle(\"df_with_features.pickle\")"
   ],
   "outputs": [],
   "execution_count": 1
  },
  {
   "metadata": {
    "ExecuteTime": {
     "end_time": "2025-07-04T16:52:54.430741Z",
     "start_time": "2025-07-04T16:52:54.266546Z"
    }
   },
   "cell_type": "code",
   "source": [
    "percentiles = [0.00135, 0.02275, 0.1587, 0.8413, 0.97725, 0.99865]\n",
    "columns = ['50%', '0.1%', '2.3%', '15.9%', '84.1%', '97.7%', '99.9%']\n",
    "df_features.describe(percentiles).loc[columns].T"
   ],
   "id": "6bfdca488b715ec2",
   "outputs": [
    {
     "data": {
      "text/plain": [
       "                   50%      0.1%      2.3%     15.9%     84.1%     97.7%  \\\n",
       "similarity    0.847000  0.701000  0.710000  0.757000  0.922000  0.963000   \n",
       "len_ratio     1.214286  0.343222  0.747292  1.045455  1.417178  1.923077   \n",
       "verb_ratio    1.000000  0.250000  0.500000  0.750000  1.500000  3.000000   \n",
       "noun_ratio    1.200000  0.375000  0.666667  1.000000  1.750000  4.000000   \n",
       "entity_ratio  0.750000  0.100000  0.166667  0.333333  1.000000  2.000000   \n",
       "clause_ratio  1.000000  0.200000  0.500000  1.000000  1.500000  3.000000   \n",
       "\n",
       "                  99.9%  \n",
       "similarity     0.982000  \n",
       "len_ratio      3.927968  \n",
       "verb_ratio     5.000000  \n",
       "noun_ratio    12.000000  \n",
       "entity_ratio   4.000000  \n",
       "clause_ratio   6.000000  "
      ],
      "text/html": [
       "<div>\n",
       "<style scoped>\n",
       "    .dataframe tbody tr th:only-of-type {\n",
       "        vertical-align: middle;\n",
       "    }\n",
       "\n",
       "    .dataframe tbody tr th {\n",
       "        vertical-align: top;\n",
       "    }\n",
       "\n",
       "    .dataframe thead th {\n",
       "        text-align: right;\n",
       "    }\n",
       "</style>\n",
       "<table border=\"1\" class=\"dataframe\">\n",
       "  <thead>\n",
       "    <tr style=\"text-align: right;\">\n",
       "      <th></th>\n",
       "      <th>50%</th>\n",
       "      <th>0.1%</th>\n",
       "      <th>2.3%</th>\n",
       "      <th>15.9%</th>\n",
       "      <th>84.1%</th>\n",
       "      <th>97.7%</th>\n",
       "      <th>99.9%</th>\n",
       "    </tr>\n",
       "  </thead>\n",
       "  <tbody>\n",
       "    <tr>\n",
       "      <th>similarity</th>\n",
       "      <td>0.847000</td>\n",
       "      <td>0.701000</td>\n",
       "      <td>0.710000</td>\n",
       "      <td>0.757000</td>\n",
       "      <td>0.922000</td>\n",
       "      <td>0.963000</td>\n",
       "      <td>0.982000</td>\n",
       "    </tr>\n",
       "    <tr>\n",
       "      <th>len_ratio</th>\n",
       "      <td>1.214286</td>\n",
       "      <td>0.343222</td>\n",
       "      <td>0.747292</td>\n",
       "      <td>1.045455</td>\n",
       "      <td>1.417178</td>\n",
       "      <td>1.923077</td>\n",
       "      <td>3.927968</td>\n",
       "    </tr>\n",
       "    <tr>\n",
       "      <th>verb_ratio</th>\n",
       "      <td>1.000000</td>\n",
       "      <td>0.250000</td>\n",
       "      <td>0.500000</td>\n",
       "      <td>0.750000</td>\n",
       "      <td>1.500000</td>\n",
       "      <td>3.000000</td>\n",
       "      <td>5.000000</td>\n",
       "    </tr>\n",
       "    <tr>\n",
       "      <th>noun_ratio</th>\n",
       "      <td>1.200000</td>\n",
       "      <td>0.375000</td>\n",
       "      <td>0.666667</td>\n",
       "      <td>1.000000</td>\n",
       "      <td>1.750000</td>\n",
       "      <td>4.000000</td>\n",
       "      <td>12.000000</td>\n",
       "    </tr>\n",
       "    <tr>\n",
       "      <th>entity_ratio</th>\n",
       "      <td>0.750000</td>\n",
       "      <td>0.100000</td>\n",
       "      <td>0.166667</td>\n",
       "      <td>0.333333</td>\n",
       "      <td>1.000000</td>\n",
       "      <td>2.000000</td>\n",
       "      <td>4.000000</td>\n",
       "    </tr>\n",
       "    <tr>\n",
       "      <th>clause_ratio</th>\n",
       "      <td>1.000000</td>\n",
       "      <td>0.200000</td>\n",
       "      <td>0.500000</td>\n",
       "      <td>1.000000</td>\n",
       "      <td>1.500000</td>\n",
       "      <td>3.000000</td>\n",
       "      <td>6.000000</td>\n",
       "    </tr>\n",
       "  </tbody>\n",
       "</table>\n",
       "</div>"
      ]
     },
     "execution_count": 2,
     "metadata": {},
     "output_type": "execute_result"
    }
   ],
   "execution_count": 2
  },
  {
   "metadata": {
    "ExecuteTime": {
     "end_time": "2025-07-04T16:52:54.611706Z",
     "start_time": "2025-07-04T16:52:54.605772Z"
    }
   },
   "cell_type": "code",
   "source": [
    "# exclude similarity < 0.757 (1 stdev below median)\n",
    "\n",
    "# when similarity < 0.85 (median)\n",
    "outlier_criteria_s1 = {\n",
    "    \"len_ratio\": (0.75, 1.92),  # override with 2 stdev len ratios\n",
    "    \"verb_ratio\": (0.75, 1.50),\n",
    "    \"noun_ratio\": (1.00, 1.75),\n",
    "    \"entity_ratio\": (0.33, 1.00),\n",
    "    \"clause_ratio\": (1.00, 1.50),\n",
    "}\n",
    "\n",
    "# when similarity < 0.92 (1 stdev above median)\n",
    "outlier_criteria_s2 = {\n",
    "    \"len_ratio\": (0.75, 1.92),\n",
    "    \"verb_ratio\": (0.50, 3.00),\n",
    "    \"noun_ratio\": (0.67, 4.00),\n",
    "    \"entity_ratio\": (0.17, 2.00),\n",
    "    \"clause_ratio\": (0.50, 3.00),\n",
    "}\n",
    "\n",
    "# all higher similarities\n",
    "outlier_criteria_s3 = {\n",
    "    \"len_ratio\": (0.34, 3.93),\n",
    "    \"verb_ratio\": (0.25, 5.00),\n",
    "    \"noun_ratio\": (0.38, 12.00),\n",
    "    \"entity_ratio\": (0.10, 4.00),\n",
    "    \"clause_ratio\": (0.20, 6.00),\n",
    "}"
   ],
   "id": "5bdcced6dddfd538",
   "outputs": [],
   "execution_count": 3
  },
  {
   "metadata": {
    "ExecuteTime": {
     "end_time": "2025-07-04T16:52:54.791778Z",
     "start_time": "2025-07-04T16:52:54.636841Z"
    }
   },
   "cell_type": "code",
   "source": [
    "for outlier_criteria in [outlier_criteria_s1, outlier_criteria_s2, outlier_criteria_s3]:\n",
    "    print()\n",
    "    for feature, (x, y) in outlier_criteria.items():\n",
    "        print(f\"{feature:<20}\", end=\"\")\n",
    "        print(f\"number below {x}:\\t{df_features[df_features[feature] < x].shape[0]:<10}\", end=\"\\t\\t\")\n",
    "        print(f\"number above {y}:\\t{df_features[df_features[feature] > y].shape[0]:<10}\")"
   ],
   "id": "a99fd045e7f2d2d2",
   "outputs": [
    {
     "name": "stdout",
     "output_type": "stream",
     "text": [
      "\n",
      "len_ratio           number below 0.75:\t17869     \t\tnumber above 1.92:\t17871     \n",
      "verb_ratio          number below 0.75:\t107322    \t\tnumber above 1.5:\t108955    \n",
      "noun_ratio          number below 1.0:\t104712    \t\tnumber above 1.75:\t116633    \n",
      "entity_ratio        number below 0.33:\t79250     \t\tnumber above 1.0:\t84643     \n",
      "clause_ratio        number below 1.0:\t120154    \t\tnumber above 1.5:\t107848    \n",
      "\n",
      "len_ratio           number below 0.75:\t17869     \t\tnumber above 1.92:\t17871     \n",
      "verb_ratio          number below 0.5:\t12007     \t\tnumber above 3.0:\t6404      \n",
      "noun_ratio          number below 0.67:\t17769     \t\tnumber above 4.0:\t14641     \n",
      "entity_ratio        number below 0.17:\t19930     \t\tnumber above 2.0:\t11003     \n",
      "clause_ratio        number below 0.5:\t16753     \t\tnumber above 3.0:\t8048      \n",
      "\n",
      "len_ratio           number below 0.34:\t1024      \t\tnumber above 3.93:\t1047      \n",
      "verb_ratio          number below 0.25:\t599       \t\tnumber above 5.0:\t354       \n",
      "noun_ratio          number below 0.38:\t1071      \t\tnumber above 12.0:\t1011      \n",
      "entity_ratio        number below 0.1:\t1010      \t\tnumber above 4.0:\t811       \n",
      "clause_ratio        number below 0.2:\t877       \t\tnumber above 6.0:\t1019      \n"
     ]
    }
   ],
   "execution_count": 4
  },
  {
   "metadata": {
    "ExecuteTime": {
     "end_time": "2025-07-04T16:52:54.945063Z",
     "start_time": "2025-07-04T16:52:54.795968Z"
    }
   },
   "cell_type": "code",
   "source": [
    "df_features[\"exclude_low_similarity\"] = df_features[\"similarity\"] < 0.757\n",
    "\n",
    "s1_mask = df_features[\"similarity\"] < 0.85\n",
    "s2_mask = (df_features[\"similarity\"] >= 0.85) & (df_features[\"similarity\"] < 0.92)\n",
    "s3_mask = df_features[\"similarity\"] >= 0.92\n",
    "criteria = {\n",
    "    \"s1\": outlier_criteria_s1,\n",
    "    \"s2\": outlier_criteria_s2,\n",
    "    \"s3\": outlier_criteria_s3,\n",
    "}\n",
    "\n",
    "for feature in outlier_criteria_s1:\n",
    "    col_name = f\"exclude_{feature}\"\n",
    "    df_features[col_name] = False\n",
    "\n",
    "    low1, high1 = outlier_criteria_s1[feature]\n",
    "    low2, high2 = outlier_criteria_s2[feature]\n",
    "    low3, high3 = outlier_criteria_s3[feature]\n",
    "\n",
    "    df_features.loc[s1_mask, col_name] = ~df_features.loc[s1_mask, feature].between(low1, high1)\n",
    "    df_features.loc[s2_mask, col_name] = ~df_features.loc[s2_mask, feature].between(low2, high2)\n",
    "    df_features.loc[s3_mask, col_name] = ~df_features.loc[s3_mask, feature].between(low3, high3)\n"
   ],
   "id": "3f2329ce55d0ff94",
   "outputs": [],
   "execution_count": 5
  },
  {
   "metadata": {
    "ExecuteTime": {
     "end_time": "2025-07-04T16:52:54.962558Z",
     "start_time": "2025-07-04T16:52:54.951974Z"
    }
   },
   "cell_type": "code",
   "source": [
    "exclusion_columns = [\n",
    "    'exclude_low_similarity',\n",
    "    'exclude_len_ratio',\n",
    "    'exclude_verb_ratio',\n",
    "    'exclude_noun_ratio',\n",
    "    'exclude_entity_ratio',\n",
    "    'exclude_clause_ratio',\n",
    "]\n",
    "df_features[\"exclude\"] = df_features[exclusion_columns].any(axis=1)"
   ],
   "id": "b9e1931e1503fff1",
   "outputs": [],
   "execution_count": 6
  },
  {
   "metadata": {
    "ExecuteTime": {
     "end_time": "2025-07-04T16:52:54.984873Z",
     "start_time": "2025-07-04T16:52:54.970126Z"
    }
   },
   "cell_type": "code",
   "source": [
    "# how many exclusions does this lead to?\n",
    "\n",
    "df_features[exclusion_columns + ['exclude']].sum()"
   ],
   "id": "9fbea116c2110366",
   "outputs": [
    {
     "data": {
      "text/plain": [
       "exclude_low_similarity    121566\n",
       "exclude_len_ratio          35269\n",
       "exclude_verb_ratio        125555\n",
       "exclude_noun_ratio        141034\n",
       "exclude_entity_ratio       99526\n",
       "exclude_clause_ratio      131022\n",
       "exclude                   346909\n",
       "dtype: int64"
      ]
     },
     "execution_count": 7,
     "metadata": {},
     "output_type": "execute_result"
    }
   ],
   "execution_count": 7
  },
  {
   "metadata": {
    "ExecuteTime": {
     "end_time": "2025-07-04T16:52:55.101031Z",
     "start_time": "2025-07-04T16:52:55.013313Z"
    }
   },
   "cell_type": "code",
   "source": [
    "# how many translations are left after this cleaning? (half a million)\n",
    "\n",
    "df_features[~df_features[\"exclude\"]].shape[0], df_features[~df_features[\"exclude\"]].shape[0] / df_features.shape[0]"
   ],
   "id": "13941455308bec1f",
   "outputs": [
    {
     "data": {
      "text/plain": [
       "(432042, 0.5546459276642561)"
      ]
     },
     "execution_count": 8,
     "metadata": {},
     "output_type": "execute_result"
    }
   ],
   "execution_count": 8
  },
  {
   "metadata": {},
   "cell_type": "markdown",
   "source": "# make sure bad ones are caught",
   "id": "fe8c291ddfe53711"
  },
  {
   "metadata": {
    "ExecuteTime": {
     "end_time": "2025-07-04T16:52:55.145274Z",
     "start_time": "2025-07-04T16:52:55.123810Z"
    }
   },
   "cell_type": "code",
   "source": [
    "# check a few at random\n",
    "\n",
    "df_features.sample().T"
   ],
   "id": "98f2458c84d87cb",
   "outputs": [
    {
     "data": {
      "text/plain": [
       "                                                                   772446\n",
       "pub_number                                                   SSR 2003/017\n",
       "fr                      Ce problème est lié principalement à la limite...\n",
       "en                      This problem is mainly related to the 42 cm li...\n",
       "similarity                                                          0.767\n",
       "len_ratio                                                        1.133929\n",
       "verb_ratio                                                            1.0\n",
       "noun_ratio                                                            1.0\n",
       "entity_ratio                                                          0.5\n",
       "clause_ratio                                                          1.0\n",
       "exclude_low_similarity                                              False\n",
       "exclude_len_ratio                                                   False\n",
       "exclude_verb_ratio                                                  False\n",
       "exclude_noun_ratio                                                  False\n",
       "exclude_entity_ratio                                                False\n",
       "exclude_clause_ratio                                                False\n",
       "exclude                                                             False"
      ],
      "text/html": [
       "<div>\n",
       "<style scoped>\n",
       "    .dataframe tbody tr th:only-of-type {\n",
       "        vertical-align: middle;\n",
       "    }\n",
       "\n",
       "    .dataframe tbody tr th {\n",
       "        vertical-align: top;\n",
       "    }\n",
       "\n",
       "    .dataframe thead th {\n",
       "        text-align: right;\n",
       "    }\n",
       "</style>\n",
       "<table border=\"1\" class=\"dataframe\">\n",
       "  <thead>\n",
       "    <tr style=\"text-align: right;\">\n",
       "      <th></th>\n",
       "      <th>772446</th>\n",
       "    </tr>\n",
       "  </thead>\n",
       "  <tbody>\n",
       "    <tr>\n",
       "      <th>pub_number</th>\n",
       "      <td>SSR 2003/017</td>\n",
       "    </tr>\n",
       "    <tr>\n",
       "      <th>fr</th>\n",
       "      <td>Ce problème est lié principalement à la limite...</td>\n",
       "    </tr>\n",
       "    <tr>\n",
       "      <th>en</th>\n",
       "      <td>This problem is mainly related to the 42 cm li...</td>\n",
       "    </tr>\n",
       "    <tr>\n",
       "      <th>similarity</th>\n",
       "      <td>0.767</td>\n",
       "    </tr>\n",
       "    <tr>\n",
       "      <th>len_ratio</th>\n",
       "      <td>1.133929</td>\n",
       "    </tr>\n",
       "    <tr>\n",
       "      <th>verb_ratio</th>\n",
       "      <td>1.0</td>\n",
       "    </tr>\n",
       "    <tr>\n",
       "      <th>noun_ratio</th>\n",
       "      <td>1.0</td>\n",
       "    </tr>\n",
       "    <tr>\n",
       "      <th>entity_ratio</th>\n",
       "      <td>0.5</td>\n",
       "    </tr>\n",
       "    <tr>\n",
       "      <th>clause_ratio</th>\n",
       "      <td>1.0</td>\n",
       "    </tr>\n",
       "    <tr>\n",
       "      <th>exclude_low_similarity</th>\n",
       "      <td>False</td>\n",
       "    </tr>\n",
       "    <tr>\n",
       "      <th>exclude_len_ratio</th>\n",
       "      <td>False</td>\n",
       "    </tr>\n",
       "    <tr>\n",
       "      <th>exclude_verb_ratio</th>\n",
       "      <td>False</td>\n",
       "    </tr>\n",
       "    <tr>\n",
       "      <th>exclude_noun_ratio</th>\n",
       "      <td>False</td>\n",
       "    </tr>\n",
       "    <tr>\n",
       "      <th>exclude_entity_ratio</th>\n",
       "      <td>False</td>\n",
       "    </tr>\n",
       "    <tr>\n",
       "      <th>exclude_clause_ratio</th>\n",
       "      <td>False</td>\n",
       "    </tr>\n",
       "    <tr>\n",
       "      <th>exclude</th>\n",
       "      <td>False</td>\n",
       "    </tr>\n",
       "  </tbody>\n",
       "</table>\n",
       "</div>"
      ]
     },
     "execution_count": 9,
     "metadata": {},
     "output_type": "execute_result"
    }
   ],
   "execution_count": 9
  },
  {
   "metadata": {
    "ExecuteTime": {
     "end_time": "2025-07-04T16:52:55.189444Z",
     "start_time": "2025-07-04T16:52:55.184999Z"
    }
   },
   "cell_type": "code",
   "source": [
    "# this one looks good but will be excluded based on verb ratio and entity ratio \n",
    "#  maybe false negatives are OK if quality improves\n",
    "\n",
    "df_features.loc[485273]"
   ],
   "id": "3dca2fc9362ecc90",
   "outputs": [
    {
     "data": {
      "text/plain": [
       "pub_number                                                     SAR 2009/027\n",
       "fr                        Selon les résultats des deux relevés post-sais...\n",
       "en                        Based on the results from the two postseason s...\n",
       "similarity                                                            0.813\n",
       "len_ratio                                                          0.988571\n",
       "verb_ratio                                                         0.666667\n",
       "noun_ratio                                                            1.125\n",
       "entity_ratio                                                           0.25\n",
       "clause_ratio                                                            1.0\n",
       "exclude_low_similarity                                                False\n",
       "exclude_len_ratio                                                     False\n",
       "exclude_verb_ratio                                                     True\n",
       "exclude_noun_ratio                                                    False\n",
       "exclude_entity_ratio                                                   True\n",
       "exclude_clause_ratio                                                  False\n",
       "exclude                                                                True\n",
       "Name: 485273, dtype: object"
      ]
     },
     "execution_count": 10,
     "metadata": {},
     "output_type": "execute_result"
    }
   ],
   "execution_count": 10
  },
  {
   "metadata": {
    "ExecuteTime": {
     "end_time": "2025-07-04T16:52:55.253208Z",
     "start_time": "2025-07-04T16:52:55.248943Z"
    }
   },
   "cell_type": "code",
   "source": [
    "# this one is almost caught by len_ratio and entity_ratio, but not quite unless lower limits are tweaked\n",
    "\n",
    "df_features.loc[498816]"
   ],
   "id": "d40a1d465e058d95",
   "outputs": [
    {
     "data": {
      "text/plain": [
       "pub_number                                                     SAR 2010/020\n",
       "fr                        Sources d incertitude Il existe de l incertitu...\n",
       "en                        Newfoundland and Labrador Region 2HJ3KLNOPs4R ...\n",
       "similarity                                                            0.818\n",
       "len_ratio                                                          0.771084\n",
       "verb_ratio                                                              1.0\n",
       "noun_ratio                                                            1.125\n",
       "entity_ratio                                                            0.2\n",
       "clause_ratio                                                            1.0\n",
       "exclude_low_similarity                                                False\n",
       "exclude_len_ratio                                                     False\n",
       "exclude_verb_ratio                                                    False\n",
       "exclude_noun_ratio                                                    False\n",
       "exclude_entity_ratio                                                   True\n",
       "exclude_clause_ratio                                                  False\n",
       "exclude                                                                True\n",
       "Name: 498816, dtype: object"
      ]
     },
     "execution_count": 11,
     "metadata": {},
     "output_type": "execute_result"
    }
   ],
   "execution_count": 11
  },
  {
   "metadata": {
    "ExecuteTime": {
     "end_time": "2025-07-04T16:52:55.338293Z",
     "start_time": "2025-07-04T16:52:55.334196Z"
    }
   },
   "cell_type": "code",
   "source": [
    "# this one is good, but is excluded by entity_ratio if 0.33 is used as a lower limit\n",
    "\n",
    "df_features.loc[366969]"
   ],
   "id": "2b305445094bb89a",
   "outputs": [
    {
     "data": {
      "text/plain": [
       "pub_number                                                     RES 2022/027\n",
       "fr                        De 2018 à 2021, plus de 80 de la biomasse cumu...\n",
       "en                        From 2018 to 2021, more than 80 of the cumulat...\n",
       "similarity                                                            0.972\n",
       "len_ratio                                                          0.989796\n",
       "verb_ratio                                                              1.0\n",
       "noun_ratio                                                         1.285714\n",
       "entity_ratio                                                           0.25\n",
       "clause_ratio                                                            2.0\n",
       "exclude_low_similarity                                                False\n",
       "exclude_len_ratio                                                     False\n",
       "exclude_verb_ratio                                                    False\n",
       "exclude_noun_ratio                                                    False\n",
       "exclude_entity_ratio                                                  False\n",
       "exclude_clause_ratio                                                  False\n",
       "exclude                                                               False\n",
       "Name: 366969, dtype: object"
      ]
     },
     "execution_count": 12,
     "metadata": {},
     "output_type": "execute_result"
    }
   ],
   "execution_count": 12
  },
  {
   "metadata": {
    "ExecuteTime": {
     "end_time": "2025-07-04T16:52:55.419727Z",
     "start_time": "2025-07-04T16:52:55.414750Z"
    }
   },
   "cell_type": "code",
   "source": [
    "# this one is junk data, it is caught by multiple exclusion criteria\n",
    "\n",
    "df_features.loc[574405]"
   ],
   "id": "3b7e268ae0e82587",
   "outputs": [
    {
     "data": {
      "text/plain": [
       "pub_number                                                     SAR 2017/033\n",
       "fr                        Saison Permis TAC (t) Débarquements (t) CPUE (...\n",
       "en                        Season Licenses TAC (t) Landings (t) CPUE (kg ...\n",
       "similarity                                                            0.781\n",
       "len_ratio                                                          1.101205\n",
       "verb_ratio                                                              3.0\n",
       "noun_ratio                                                         4.636364\n",
       "entity_ratio                                                       0.115385\n",
       "clause_ratio                                                            7.5\n",
       "exclude_low_similarity                                                False\n",
       "exclude_len_ratio                                                     False\n",
       "exclude_verb_ratio                                                     True\n",
       "exclude_noun_ratio                                                     True\n",
       "exclude_entity_ratio                                                   True\n",
       "exclude_clause_ratio                                                   True\n",
       "exclude                                                                True\n",
       "Name: 574405, dtype: object"
      ]
     },
     "execution_count": 13,
     "metadata": {},
     "output_type": "execute_result"
    }
   ],
   "execution_count": 13
  },
  {
   "metadata": {},
   "cell_type": "markdown",
   "source": "# OK this looks good. let's do it!",
   "id": "eb5167ecd5135f6a"
  },
  {
   "metadata": {
    "ExecuteTime": {
     "end_time": "2025-07-04T16:53:37.920341Z",
     "start_time": "2025-07-04T16:53:32.752064Z"
    }
   },
   "cell_type": "code",
   "source": [
    "df_clean = df_features[~df_features.exclude].copy()\n",
    "\n",
    "save_jsonl(df_clean, \"training_data.jsonl\")"
   ],
   "id": "8498d94712a08b03",
   "outputs": [],
   "execution_count": 15
  },
  {
   "metadata": {
    "ExecuteTime": {
     "end_time": "2025-07-04T16:56:40.925852Z",
     "start_time": "2025-07-04T16:56:40.359448Z"
    }
   },
   "cell_type": "code",
   "source": [
    "import os\n",
    "\n",
    "path = \"training_data.jsonl\"\n",
    "size_kb = os.path.getsize(path) / 1024\n",
    "line_count = sum(1 for _ in open(path, 'r', encoding='utf-8'))\n",
    "\n",
    "print(f\"{size_kb:.2f} KB, {line_count} lines\")"
   ],
   "id": "d00c5e731394fb5c",
   "outputs": [
    {
     "name": "stdout",
     "output_type": "stream",
     "text": [
      "304540.49 KB, 864084 lines\n"
     ]
    }
   ],
   "execution_count": 16
  }
 ],
 "metadata": {
  "kernelspec": {
   "display_name": "Python 3",
   "language": "python",
   "name": "python3"
  },
  "language_info": {
   "codemirror_mode": {
    "name": "ipython",
    "version": 2
   },
   "file_extension": ".py",
   "mimetype": "text/x-python",
   "name": "python",
   "nbconvert_exporter": "python",
   "pygments_lexer": "ipython2",
   "version": "2.7.6"
  }
 },
 "nbformat": 4,
 "nbformat_minor": 5
}
