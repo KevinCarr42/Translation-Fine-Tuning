{
 "cells": [
  {
   "cell_type": "code",
   "id": "initial_id",
   "metadata": {
    "collapsed": true,
    "ExecuteTime": {
     "end_time": "2025-07-04T15:06:56.542997Z",
     "start_time": "2025-07-04T15:06:55.643801Z"
    }
   },
   "source": [
    "import pandas as pd\n",
    "import numpy as np\n",
    "\n",
    "# the same dataset after cleaning\n",
    "df_features = pd.read_pickle(\"df_with_features.pickle\")"
   ],
   "outputs": [],
   "execution_count": 1
  },
  {
   "metadata": {
    "ExecuteTime": {
     "end_time": "2025-07-04T15:06:57.694721Z",
     "start_time": "2025-07-04T15:06:57.476039Z"
    }
   },
   "cell_type": "code",
   "source": [
    "cols = [\n",
    "    \"pub_number\", \"fr\", \"en\", \"similarity\",\n",
    "    \"len_ratio\", \"verb_ratio\", \"noun_ratio\",\n",
    "    \"entity_ratio\", \"clause_ratio\"\n",
    "]\n",
    "\n",
    "numeric_df = df_features[[\n",
    "    \"similarity\", \"len_ratio\", \"verb_ratio\",\n",
    "    \"noun_ratio\", \"entity_ratio\", \"clause_ratio\"\n",
    "]]\n",
    "\n",
    "Q1 = numeric_df.quantile(0.25)\n",
    "Q3 = numeric_df.quantile(0.75)\n",
    "IQR = Q3 - Q1\n",
    "\n",
    "outlier_mask = (numeric_df < (Q1 - 1.5 * IQR)) | (numeric_df > (Q3 + 1.5 * IQR))\n",
    "outlier_mask[\"similarity\"] = numeric_df[\"similarity\"] < (Q1[\"similarity\"] - 1.5 * IQR[\"similarity\"])\n",
    "\n",
    "outlier_flags = outlier_mask.add_suffix(\"_outlier\")\n",
    "\n",
    "df_features = pd.concat([df_features[cols], outlier_flags], axis=1)\n",
    "\n",
    "df_features[\"outlier\"] = outlier_flags.any(axis=1)"
   ],
   "id": "edc009abdb4f373b",
   "outputs": [],
   "execution_count": 3
  },
  {
   "metadata": {
    "ExecuteTime": {
     "end_time": "2025-07-04T15:06:57.718359Z",
     "start_time": "2025-07-04T15:06:57.714494Z"
    }
   },
   "cell_type": "code",
   "source": "IQR",
   "id": "565fb0976c2eec72",
   "outputs": [
    {
     "data": {
      "text/plain": [
       "similarity      0.117000\n",
       "len_ratio       0.229047\n",
       "verb_ratio      0.500000\n",
       "noun_ratio      0.388889\n",
       "entity_ratio    1.000000\n",
       "clause_ratio    0.500000\n",
       "dtype: float64"
      ]
     },
     "execution_count": 4,
     "metadata": {},
     "output_type": "execute_result"
    }
   ],
   "execution_count": 4
  },
  {
   "metadata": {
    "ExecuteTime": {
     "end_time": "2025-07-04T15:06:57.796456Z",
     "start_time": "2025-07-04T15:06:57.748981Z"
    }
   },
   "cell_type": "code",
   "source": [
    "# number of cleaned data after removing outliers\n",
    "df_features[~df_features.outlier].shape[0] / df_features.shape[0] "
   ],
   "id": "f4eebd3d1b6b0084",
   "outputs": [
    {
     "data": {
      "text/plain": [
       "0.722734806168809"
      ]
     },
     "execution_count": 5,
     "metadata": {},
     "output_type": "execute_result"
    }
   ],
   "execution_count": 5
  },
  {
   "metadata": {
    "ExecuteTime": {
     "end_time": "2025-07-04T15:06:58.009370Z",
     "start_time": "2025-07-04T15:06:57.907733Z"
    }
   },
   "cell_type": "code",
   "source": [
    "df_clean = df_features[~df_features.outlier].copy()\n",
    "df_outliers = df_features[df_features.outlier].copy()"
   ],
   "id": "5f82b80f8d180c09",
   "outputs": [],
   "execution_count": 6
  },
  {
   "metadata": {
    "ExecuteTime": {
     "end_time": "2025-07-04T15:06:58.031466Z",
     "start_time": "2025-07-04T15:06:58.022712Z"
    }
   },
   "cell_type": "code",
   "source": "df_outliers.sample().T",
   "id": "42103930c605ea04",
   "outputs": [
    {
     "data": {
      "text/plain": [
       "                                                                 548710\n",
       "pub_number                                                 SAR 2014/057\n",
       "fr                    Les montaisons de petits saumons pour la régio...\n",
       "en                    Small salmon returns for Gulf Region in 2012 a...\n",
       "similarity                                                        0.819\n",
       "len_ratio                                                      1.149171\n",
       "verb_ratio                                                          1.5\n",
       "noun_ratio                                                     1.142857\n",
       "entity_ratio                                                        8.0\n",
       "clause_ratio                                                   1.333333\n",
       "similarity_outlier                                                False\n",
       "len_ratio_outlier                                                 False\n",
       "verb_ratio_outlier                                                False\n",
       "noun_ratio_outlier                                                False\n",
       "entity_ratio_outlier                                               True\n",
       "clause_ratio_outlier                                              False\n",
       "outlier                                                            True"
      ],
      "text/html": [
       "<div>\n",
       "<style scoped>\n",
       "    .dataframe tbody tr th:only-of-type {\n",
       "        vertical-align: middle;\n",
       "    }\n",
       "\n",
       "    .dataframe tbody tr th {\n",
       "        vertical-align: top;\n",
       "    }\n",
       "\n",
       "    .dataframe thead th {\n",
       "        text-align: right;\n",
       "    }\n",
       "</style>\n",
       "<table border=\"1\" class=\"dataframe\">\n",
       "  <thead>\n",
       "    <tr style=\"text-align: right;\">\n",
       "      <th></th>\n",
       "      <th>548710</th>\n",
       "    </tr>\n",
       "  </thead>\n",
       "  <tbody>\n",
       "    <tr>\n",
       "      <th>pub_number</th>\n",
       "      <td>SAR 2014/057</td>\n",
       "    </tr>\n",
       "    <tr>\n",
       "      <th>fr</th>\n",
       "      <td>Les montaisons de petits saumons pour la régio...</td>\n",
       "    </tr>\n",
       "    <tr>\n",
       "      <th>en</th>\n",
       "      <td>Small salmon returns for Gulf Region in 2012 a...</td>\n",
       "    </tr>\n",
       "    <tr>\n",
       "      <th>similarity</th>\n",
       "      <td>0.819</td>\n",
       "    </tr>\n",
       "    <tr>\n",
       "      <th>len_ratio</th>\n",
       "      <td>1.149171</td>\n",
       "    </tr>\n",
       "    <tr>\n",
       "      <th>verb_ratio</th>\n",
       "      <td>1.5</td>\n",
       "    </tr>\n",
       "    <tr>\n",
       "      <th>noun_ratio</th>\n",
       "      <td>1.142857</td>\n",
       "    </tr>\n",
       "    <tr>\n",
       "      <th>entity_ratio</th>\n",
       "      <td>8.0</td>\n",
       "    </tr>\n",
       "    <tr>\n",
       "      <th>clause_ratio</th>\n",
       "      <td>1.333333</td>\n",
       "    </tr>\n",
       "    <tr>\n",
       "      <th>similarity_outlier</th>\n",
       "      <td>False</td>\n",
       "    </tr>\n",
       "    <tr>\n",
       "      <th>len_ratio_outlier</th>\n",
       "      <td>False</td>\n",
       "    </tr>\n",
       "    <tr>\n",
       "      <th>verb_ratio_outlier</th>\n",
       "      <td>False</td>\n",
       "    </tr>\n",
       "    <tr>\n",
       "      <th>noun_ratio_outlier</th>\n",
       "      <td>False</td>\n",
       "    </tr>\n",
       "    <tr>\n",
       "      <th>entity_ratio_outlier</th>\n",
       "      <td>True</td>\n",
       "    </tr>\n",
       "    <tr>\n",
       "      <th>clause_ratio_outlier</th>\n",
       "      <td>False</td>\n",
       "    </tr>\n",
       "    <tr>\n",
       "      <th>outlier</th>\n",
       "      <td>True</td>\n",
       "    </tr>\n",
       "  </tbody>\n",
       "</table>\n",
       "</div>"
      ]
     },
     "execution_count": 7,
     "metadata": {},
     "output_type": "execute_result"
    }
   ],
   "execution_count": 7
  },
  {
   "metadata": {
    "ExecuteTime": {
     "end_time": "2025-07-04T15:06:58.068186Z",
     "start_time": "2025-07-04T15:06:58.059590Z"
    }
   },
   "cell_type": "code",
   "source": [
    "# entity_ratio_outlier is probably bad\n",
    "df_outliers.loc[366969]"
   ],
   "id": "60b367a1cdd895ec",
   "outputs": [
    {
     "data": {
      "text/plain": [
       "pub_number                                                   RES 2022/027\n",
       "fr                      De 2018 à 2021, plus de 80 de la biomasse cumu...\n",
       "en                      From 2018 to 2021, more than 80 of the cumulat...\n",
       "similarity                                                          0.972\n",
       "len_ratio                                                        1.010309\n",
       "verb_ratio                                                            1.0\n",
       "noun_ratio                                                       1.285714\n",
       "entity_ratio                                                          4.0\n",
       "clause_ratio                                                          2.0\n",
       "similarity_outlier                                                  False\n",
       "len_ratio_outlier                                                   False\n",
       "verb_ratio_outlier                                                  False\n",
       "noun_ratio_outlier                                                  False\n",
       "entity_ratio_outlier                                                 True\n",
       "clause_ratio_outlier                                                False\n",
       "outlier                                                              True\n",
       "Name: 366969, dtype: object"
      ]
     },
     "execution_count": 8,
     "metadata": {},
     "output_type": "execute_result"
    }
   ],
   "execution_count": 8
  },
  {
   "metadata": {
    "ExecuteTime": {
     "end_time": "2025-07-04T15:06:58.122819Z",
     "start_time": "2025-07-04T15:06:58.117342Z"
    }
   },
   "cell_type": "code",
   "source": [
    "# this one is bad, but it's at 5\n",
    "df_outliers.loc[498816]"
   ],
   "id": "9b842e6e930150ad",
   "outputs": [
    {
     "data": {
      "text/plain": [
       "pub_number                                                   SAR 2010/020\n",
       "fr                      Sources d incertitude Il existe de l incertitu...\n",
       "en                      Newfoundland and Labrador Region 2HJ3KLNOPs4R ...\n",
       "similarity                                                          0.818\n",
       "len_ratio                                                        1.296875\n",
       "verb_ratio                                                            1.0\n",
       "noun_ratio                                                          1.125\n",
       "entity_ratio                                                          5.0\n",
       "clause_ratio                                                          1.0\n",
       "similarity_outlier                                                  False\n",
       "len_ratio_outlier                                                   False\n",
       "verb_ratio_outlier                                                  False\n",
       "noun_ratio_outlier                                                  False\n",
       "entity_ratio_outlier                                                 True\n",
       "clause_ratio_outlier                                                False\n",
       "outlier                                                              True\n",
       "Name: 498816, dtype: object"
      ]
     },
     "execution_count": 9,
     "metadata": {},
     "output_type": "execute_result"
    }
   ],
   "execution_count": 9
  },
  {
   "metadata": {
    "ExecuteTime": {
     "end_time": "2025-07-04T15:06:58.214938Z",
     "start_time": "2025-07-04T15:06:58.199622Z"
    }
   },
   "cell_type": "code",
   "source": "df_outliers[df_outliers.entity_ratio_outlier].sample().T",
   "id": "30b8b2f813cf7c3f",
   "outputs": [
    {
     "data": {
      "text/plain": [
       "                                                                 574405\n",
       "pub_number                                                 SAR 2017/033\n",
       "fr                    Saison Permis TAC (t) Débarquements (t) CPUE (...\n",
       "en                    Season Licenses TAC (t) Landings (t) CPUE (kg ...\n",
       "similarity                                                        0.781\n",
       "len_ratio                                                      1.101205\n",
       "verb_ratio                                                          3.0\n",
       "noun_ratio                                                     4.636364\n",
       "entity_ratio                                                   8.666667\n",
       "clause_ratio                                                        7.5\n",
       "similarity_outlier                                                False\n",
       "len_ratio_outlier                                                 False\n",
       "verb_ratio_outlier                                                 True\n",
       "noun_ratio_outlier                                                 True\n",
       "entity_ratio_outlier                                               True\n",
       "clause_ratio_outlier                                               True\n",
       "outlier                                                            True"
      ],
      "text/html": [
       "<div>\n",
       "<style scoped>\n",
       "    .dataframe tbody tr th:only-of-type {\n",
       "        vertical-align: middle;\n",
       "    }\n",
       "\n",
       "    .dataframe tbody tr th {\n",
       "        vertical-align: top;\n",
       "    }\n",
       "\n",
       "    .dataframe thead th {\n",
       "        text-align: right;\n",
       "    }\n",
       "</style>\n",
       "<table border=\"1\" class=\"dataframe\">\n",
       "  <thead>\n",
       "    <tr style=\"text-align: right;\">\n",
       "      <th></th>\n",
       "      <th>574405</th>\n",
       "    </tr>\n",
       "  </thead>\n",
       "  <tbody>\n",
       "    <tr>\n",
       "      <th>pub_number</th>\n",
       "      <td>SAR 2017/033</td>\n",
       "    </tr>\n",
       "    <tr>\n",
       "      <th>fr</th>\n",
       "      <td>Saison Permis TAC (t) Débarquements (t) CPUE (...</td>\n",
       "    </tr>\n",
       "    <tr>\n",
       "      <th>en</th>\n",
       "      <td>Season Licenses TAC (t) Landings (t) CPUE (kg ...</td>\n",
       "    </tr>\n",
       "    <tr>\n",
       "      <th>similarity</th>\n",
       "      <td>0.781</td>\n",
       "    </tr>\n",
       "    <tr>\n",
       "      <th>len_ratio</th>\n",
       "      <td>1.101205</td>\n",
       "    </tr>\n",
       "    <tr>\n",
       "      <th>verb_ratio</th>\n",
       "      <td>3.0</td>\n",
       "    </tr>\n",
       "    <tr>\n",
       "      <th>noun_ratio</th>\n",
       "      <td>4.636364</td>\n",
       "    </tr>\n",
       "    <tr>\n",
       "      <th>entity_ratio</th>\n",
       "      <td>8.666667</td>\n",
       "    </tr>\n",
       "    <tr>\n",
       "      <th>clause_ratio</th>\n",
       "      <td>7.5</td>\n",
       "    </tr>\n",
       "    <tr>\n",
       "      <th>similarity_outlier</th>\n",
       "      <td>False</td>\n",
       "    </tr>\n",
       "    <tr>\n",
       "      <th>len_ratio_outlier</th>\n",
       "      <td>False</td>\n",
       "    </tr>\n",
       "    <tr>\n",
       "      <th>verb_ratio_outlier</th>\n",
       "      <td>True</td>\n",
       "    </tr>\n",
       "    <tr>\n",
       "      <th>noun_ratio_outlier</th>\n",
       "      <td>True</td>\n",
       "    </tr>\n",
       "    <tr>\n",
       "      <th>entity_ratio_outlier</th>\n",
       "      <td>True</td>\n",
       "    </tr>\n",
       "    <tr>\n",
       "      <th>clause_ratio_outlier</th>\n",
       "      <td>True</td>\n",
       "    </tr>\n",
       "    <tr>\n",
       "      <th>outlier</th>\n",
       "      <td>True</td>\n",
       "    </tr>\n",
       "  </tbody>\n",
       "</table>\n",
       "</div>"
      ]
     },
     "execution_count": 10,
     "metadata": {},
     "output_type": "execute_result"
    }
   ],
   "execution_count": 10
  }
 ],
 "metadata": {
  "kernelspec": {
   "display_name": "Python 3",
   "language": "python",
   "name": "python3"
  },
  "language_info": {
   "codemirror_mode": {
    "name": "ipython",
    "version": 2
   },
   "file_extension": ".py",
   "mimetype": "text/x-python",
   "name": "python",
   "nbconvert_exporter": "python",
   "pygments_lexer": "ipython2",
   "version": "2.7.6"
  }
 },
 "nbformat": 4,
 "nbformat_minor": 5
}
